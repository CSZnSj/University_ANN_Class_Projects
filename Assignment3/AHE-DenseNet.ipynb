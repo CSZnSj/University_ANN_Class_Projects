{
 "cells": [
  {
   "cell_type": "code",
   "execution_count": 1,
   "id": "28dea742",
   "metadata": {
    "execution": {
     "iopub.execute_input": "2024-04-25T09:30:27.433845Z",
     "iopub.status.busy": "2024-04-25T09:30:27.433441Z",
     "iopub.status.idle": "2024-04-25T09:30:29.151724Z",
     "shell.execute_reply": "2024-04-25T09:30:29.150790Z"
    },
    "papermill": {
     "duration": 1.729554,
     "end_time": "2024-04-25T09:30:29.153975",
     "exception": false,
     "start_time": "2024-04-25T09:30:27.424421",
     "status": "completed"
    },
    "tags": []
   },
   "outputs": [],
   "source": [
    "import os\n",
    "import pandas as pd\n",
    "from PIL import Image\n",
    "\n",
    "from sklearn.model_selection import train_test_split"
   ]
  },
  {
   "cell_type": "code",
   "execution_count": 2,
   "id": "5736b875",
   "metadata": {
    "execution": {
     "iopub.execute_input": "2024-04-25T09:30:29.169722Z",
     "iopub.status.busy": "2024-04-25T09:30:29.169300Z",
     "iopub.status.idle": "2024-04-25T09:30:35.434024Z",
     "shell.execute_reply": "2024-04-25T09:30:35.433099Z"
    },
    "papermill": {
     "duration": 6.274837,
     "end_time": "2024-04-25T09:30:35.436178",
     "exception": false,
     "start_time": "2024-04-25T09:30:29.161341",
     "status": "completed"
    },
    "tags": []
   },
   "outputs": [
    {
     "data": {
      "text/plain": [
       "<torch._C.Generator at 0x7d18b32cc790>"
      ]
     },
     "execution_count": 2,
     "metadata": {},
     "output_type": "execute_result"
    }
   ],
   "source": [
    "import torch\n",
    "import torchvision\n",
    "from torch import nn\n",
    "from torch.utils.data import Dataset, DataLoader\n",
    "from torchvision.datasets import ImageFolder\n",
    "from torchvision import transforms\n",
    "from tqdm import tqdm\n",
    "import torch.nn.functional as F\n",
    "\n",
    "torch.manual_seed(42)"
   ]
  },
  {
   "cell_type": "code",
   "execution_count": 3,
   "id": "72fc71b5",
   "metadata": {
    "execution": {
     "iopub.execute_input": "2024-04-25T09:30:35.452232Z",
     "iopub.status.busy": "2024-04-25T09:30:35.451805Z",
     "iopub.status.idle": "2024-04-25T09:30:35.506876Z",
     "shell.execute_reply": "2024-04-25T09:30:35.505986Z"
    },
    "papermill": {
     "duration": 0.065359,
     "end_time": "2024-04-25T09:30:35.508948",
     "exception": false,
     "start_time": "2024-04-25T09:30:35.443589",
     "status": "completed"
    },
    "tags": []
   },
   "outputs": [
    {
     "data": {
      "text/plain": [
       "'cuda'"
      ]
     },
     "execution_count": 3,
     "metadata": {},
     "output_type": "execute_result"
    }
   ],
   "source": [
    "DEVICE = \"cuda\" if torch.cuda.is_available() else \"cpu\"\n",
    "DEVICE"
   ]
  },
  {
   "cell_type": "code",
   "execution_count": 4,
   "id": "7eeb4938",
   "metadata": {
    "execution": {
     "iopub.execute_input": "2024-04-25T09:30:35.525100Z",
     "iopub.status.busy": "2024-04-25T09:30:35.524783Z",
     "iopub.status.idle": "2024-04-25T09:30:35.529833Z",
     "shell.execute_reply": "2024-04-25T09:30:35.528973Z"
    },
    "papermill": {
     "duration": 0.015212,
     "end_time": "2024-04-25T09:30:35.531601",
     "exception": false,
     "start_time": "2024-04-25T09:30:35.516389",
     "status": "completed"
    },
    "tags": []
   },
   "outputs": [],
   "source": [
    "PATH = r\"/kaggle/input/architectural-heritage-elements-image64-dataset\"\n",
    "classes = [\"altar\", \"apse\", \"bell_tower\", \"column\", \"dome(inner)\", \"dome(outer)\", \"flying_buttress\", \"gargoyle\", \"stained_glass\", \"vault\"]\n",
    "class_to_label = {name:idx for idx, name in enumerate(classes)}\n",
    "label_to_class = {value:key for key, value in class_to_label.items()}"
   ]
  },
  {
   "cell_type": "code",
   "execution_count": 5,
   "id": "d9a6dcc4",
   "metadata": {
    "execution": {
     "iopub.execute_input": "2024-04-25T09:30:35.547287Z",
     "iopub.status.busy": "2024-04-25T09:30:35.547000Z",
     "iopub.status.idle": "2024-04-25T09:30:35.552916Z",
     "shell.execute_reply": "2024-04-25T09:30:35.552130Z"
    },
    "papermill": {
     "duration": 0.015843,
     "end_time": "2024-04-25T09:30:35.554777",
     "exception": false,
     "start_time": "2024-04-25T09:30:35.538934",
     "status": "completed"
    },
    "tags": []
   },
   "outputs": [],
   "source": [
    "def convert_to_dataframe(root_folder, mapping=class_to_label):\n",
    "    paths = []\n",
    "    labels = []\n",
    "    for label in os.listdir(root_folder):\n",
    "        label_folder = os.path.join(root_folder, label)\n",
    "        if os.path.isdir(label_folder):\n",
    "            for file_name in os.listdir(label_folder):\n",
    "                file_path = os.path.join(label_folder, file_name)\n",
    "                paths.append(file_path)\n",
    "                labels.append(mapping[label])\n",
    "    df = pd.DataFrame({\"path\": paths, \"label\": labels})\n",
    "    return df"
   ]
  },
  {
   "cell_type": "code",
   "execution_count": 6,
   "id": "48b05ebb",
   "metadata": {
    "execution": {
     "iopub.execute_input": "2024-04-25T09:30:35.570507Z",
     "iopub.status.busy": "2024-04-25T09:30:35.570241Z",
     "iopub.status.idle": "2024-04-25T09:30:35.577135Z",
     "shell.execute_reply": "2024-04-25T09:30:35.576314Z"
    },
    "papermill": {
     "duration": 0.016975,
     "end_time": "2024-04-25T09:30:35.579033",
     "exception": false,
     "start_time": "2024-04-25T09:30:35.562058",
     "status": "completed"
    },
    "tags": []
   },
   "outputs": [],
   "source": [
    "class CustomDataset(Dataset):\n",
    "    def __init__(self, dataframe, root=PATH, transform=None):\n",
    "        super().__init__()\n",
    "        self.dataframe = dataframe\n",
    "        self.root = root\n",
    "        self.transform = transform\n",
    "            \n",
    "    def __len__(self):\n",
    "        return len(self.dataframe)\n",
    "    \n",
    "    def __getitem__(self, index):\n",
    "        #label\n",
    "        label = self.dataframe[\"label\"].iloc[index]\n",
    "        label = torch.tensor(label)\n",
    "        \n",
    "        #image\n",
    "        image_path = os.path.join(self.root, self.dataframe[\"path\"].iloc[index])\n",
    "        image = Image.open(image_path).convert('RGB')\n",
    "        \n",
    "        if self.transform:\n",
    "            image = self.transform(image)\n",
    "        \n",
    "        return (image, label)"
   ]
  },
  {
   "cell_type": "code",
   "execution_count": 7,
   "id": "1dbbea63",
   "metadata": {
    "execution": {
     "iopub.execute_input": "2024-04-25T09:30:35.594561Z",
     "iopub.status.busy": "2024-04-25T09:30:35.594266Z",
     "iopub.status.idle": "2024-04-25T09:30:35.600818Z",
     "shell.execute_reply": "2024-04-25T09:30:35.600083Z"
    },
    "papermill": {
     "duration": 0.016425,
     "end_time": "2024-04-25T09:30:35.602670",
     "exception": false,
     "start_time": "2024-04-25T09:30:35.586245",
     "status": "completed"
    },
    "tags": []
   },
   "outputs": [],
   "source": [
    "def train(model, dataloader, criterion, optimizer):\n",
    "    model.train()\n",
    "    error = 0\n",
    "    correct_predictions = 0\n",
    "    total_predictions = 0\n",
    "\n",
    "    for X, y in dataloader:\n",
    "        X, y = X.to(DEVICE), y.to(DEVICE)        \n",
    "        pred = model(X)\n",
    "        loss = criterion(pred, y.squeeze())\n",
    "        error += loss.item()\n",
    "\n",
    "        _, pred_indices = torch.max(pred, 1)\n",
    "        correct_predictions += (pred_indices == y).sum().item()\n",
    "        total_predictions += y.size(0)\n",
    "\n",
    "        optimizer.zero_grad()\n",
    "        loss.backward()\n",
    "        optimizer.step()\n",
    "\n",
    "    return error / len(dataloader), correct_predictions / total_predictions"
   ]
  },
  {
   "cell_type": "code",
   "execution_count": 8,
   "id": "fd87cfe6",
   "metadata": {
    "execution": {
     "iopub.execute_input": "2024-04-25T09:30:35.618143Z",
     "iopub.status.busy": "2024-04-25T09:30:35.617897Z",
     "iopub.status.idle": "2024-04-25T09:30:35.624140Z",
     "shell.execute_reply": "2024-04-25T09:30:35.623303Z"
    },
    "papermill": {
     "duration": 0.016066,
     "end_time": "2024-04-25T09:30:35.625966",
     "exception": false,
     "start_time": "2024-04-25T09:30:35.609900",
     "status": "completed"
    },
    "tags": []
   },
   "outputs": [],
   "source": [
    "def evaluate(model, dataloader, criterion):\n",
    "    model.eval()\n",
    "    error = 0\n",
    "    correct_predictions = 0\n",
    "    total_predictions = 0\n",
    "\n",
    "    for X, y in dataloader:\n",
    "        X, y = X.to(DEVICE), y.to(DEVICE)\n",
    "        with torch.no_grad():\n",
    "            pred = model(X)\n",
    "            loss = criterion(pred, y)\n",
    "            error += loss.item()\n",
    "            _, pred_indices = torch.max(pred, 1)\n",
    "            correct_predictions += (pred_indices == y).sum().item()\n",
    "            total_predictions += y.size(0)\n",
    "            \n",
    "    return error / len(dataloader), correct_predictions / total_predictions"
   ]
  },
  {
   "cell_type": "code",
   "execution_count": 9,
   "id": "16a28d67",
   "metadata": {
    "execution": {
     "iopub.execute_input": "2024-04-25T09:30:35.642454Z",
     "iopub.status.busy": "2024-04-25T09:30:35.641991Z",
     "iopub.status.idle": "2024-04-25T09:30:35.649449Z",
     "shell.execute_reply": "2024-04-25T09:30:35.648578Z"
    },
    "papermill": {
     "duration": 0.018258,
     "end_time": "2024-04-25T09:30:35.651411",
     "exception": false,
     "start_time": "2024-04-25T09:30:35.633153",
     "status": "completed"
    },
    "tags": []
   },
   "outputs": [],
   "source": [
    "EPOCHS = 15\n",
    "def run_over_epoches(model, train_dataloader, dev_dataloader, criterion, optimizer):\n",
    "    history = {\n",
    "        \"train_losses\" : [],\n",
    "        \"dev_losses\" : [],\n",
    "        \"train_accuracies\" : [],\n",
    "        \"dev_accuracies\" : []\n",
    "    }\n",
    "    \n",
    "    best = {\n",
    "        \"model\" : model,\n",
    "        \"accuracy\" :  0\n",
    "    }\n",
    "    \n",
    "    for i, _ in enumerate(tqdm(range(EPOCHS))):\n",
    "        train_loss, train_accuracy = train(model, train_dataloader, criterion, optimizer)\n",
    "        dev_loss, dev_accuracy = evaluate(model, dev_dataloader, criterion)\n",
    "        history[\"train_losses\"].append(train_loss)\n",
    "        history[\"dev_losses\"].append(dev_loss)\n",
    "        history[\"train_accuracies\"].append(train_accuracy)\n",
    "        history[\"dev_accuracies\"].append(dev_accuracy) \n",
    "        if dev_accuracy > best[\"accuracy\"]:\n",
    "            best[\"model\"] = model\n",
    "            best[\"accuracy\"] = dev_accuracy\n",
    "        print(f\"{i+1}th epoch ----> train_accuracy : {train_accuracy} |||| dev_accuracy : {dev_accuracy}\")\n",
    "    return history, best"
   ]
  },
  {
   "cell_type": "code",
   "execution_count": 10,
   "id": "5868c43b",
   "metadata": {
    "execution": {
     "iopub.execute_input": "2024-04-25T09:30:35.666817Z",
     "iopub.status.busy": "2024-04-25T09:30:35.666548Z",
     "iopub.status.idle": "2024-04-25T09:30:35.673114Z",
     "shell.execute_reply": "2024-04-25T09:30:35.672276Z"
    },
    "papermill": {
     "duration": 0.016462,
     "end_time": "2024-04-25T09:30:35.675057",
     "exception": false,
     "start_time": "2024-04-25T09:30:35.658595",
     "status": "completed"
    },
    "tags": []
   },
   "outputs": [],
   "source": [
    "import matplotlib.pyplot as plt\n",
    "\n",
    "def plot_history(history):\n",
    "    fig, (ax1, ax2) = plt.subplots(2, 1, sharex=True, figsize=(5, 5))\n",
    "    x_axis = range(1, EPOCHS+1)\n",
    "    ax1.plot(x_axis, history[\"train_losses\"], label=\"train\")\n",
    "    ax1.plot(x_axis, history[\"dev_losses\"], label=\"dev\")\n",
    "    ax1.set_ylabel(\"Loss\")\n",
    "    ax1.legend()\n",
    "    ax2.plot(x_axis, history[\"train_accuracies\"], label=\"train\")\n",
    "    ax2.plot(x_axis, history[\"dev_accuracies\"], label=\"dev\")\n",
    "    ax2.set_xlabel(\"EPOCH\")\n",
    "    ax2.set_ylabel(\"Accuracy\")\n",
    "    ax2.legend()\n",
    "    plt.show();"
   ]
  },
  {
   "cell_type": "code",
   "execution_count": 11,
   "id": "5e213b75",
   "metadata": {
    "execution": {
     "iopub.execute_input": "2024-04-25T09:30:35.691135Z",
     "iopub.status.busy": "2024-04-25T09:30:35.690420Z",
     "iopub.status.idle": "2024-04-25T09:30:35.695907Z",
     "shell.execute_reply": "2024-04-25T09:30:35.695214Z"
    },
    "papermill": {
     "duration": 0.015343,
     "end_time": "2024-04-25T09:30:35.697676",
     "exception": false,
     "start_time": "2024-04-25T09:30:35.682333",
     "status": "completed"
    },
    "tags": []
   },
   "outputs": [],
   "source": [
    "def find_mean_std(dataset):\n",
    "    channel_means, channel_stds = 0, 0\n",
    "    for img, _ in dataset:\n",
    "        channel_means += torch.mean(img, dim=(1, 2))\n",
    "        channel_stds += torch.std(img, dim=(1, 2))\n",
    "    channel_means /= len(dataset)\n",
    "    channel_stds /= len(dataset)\n",
    "    return channel_means, channel_stds\n",
    "\n",
    "# find_mean_std(train_dataset) # ---> tensor([0.4210, 0.4001, 0.3761]), tensor([0.2109, 0.2083, 0.2143])\n",
    "# find_mean_std(dev_dataset) # ---> tensor([0.4415, 0.4238, 0.4051]), tensor([0.2009, 0.2015, 0.2174])\n",
    "# find_mean_std(test_dataset) # ---> tensor([0.4539, 0.4426, 0.4285]), tensor([0.1931, 0.1915, 0.2124])"
   ]
  },
  {
   "cell_type": "code",
   "execution_count": 12,
   "id": "22672840",
   "metadata": {
    "execution": {
     "iopub.execute_input": "2024-04-25T09:30:35.713091Z",
     "iopub.status.busy": "2024-04-25T09:30:35.712838Z",
     "iopub.status.idle": "2024-04-25T09:30:37.309970Z",
     "shell.execute_reply": "2024-04-25T09:30:37.308999Z"
    },
    "papermill": {
     "duration": 1.60773,
     "end_time": "2024-04-25T09:30:37.312537",
     "exception": false,
     "start_time": "2024-04-25T09:30:35.704807",
     "status": "completed"
    },
    "tags": []
   },
   "outputs": [],
   "source": [
    "train_df = convert_to_dataframe(PATH+r\"/train\")\n",
    "test_df = convert_to_dataframe(PATH+r\"/test\")\n",
    "train_df, dev_df = train_test_split(train_df, train_size=0.8, random_state=42, stratify=train_df[\"label\"])\n",
    "test_df, _ = train_test_split(test_df, train_size=None, random_state=42)"
   ]
  },
  {
   "cell_type": "code",
   "execution_count": 13,
   "id": "1fa67950",
   "metadata": {
    "execution": {
     "iopub.execute_input": "2024-04-25T09:30:37.328840Z",
     "iopub.status.busy": "2024-04-25T09:30:37.328561Z",
     "iopub.status.idle": "2024-04-25T09:30:37.336991Z",
     "shell.execute_reply": "2024-04-25T09:30:37.336188Z"
    },
    "papermill": {
     "duration": 0.0187,
     "end_time": "2024-04-25T09:30:37.338788",
     "exception": false,
     "start_time": "2024-04-25T09:30:37.320088",
     "status": "completed"
    },
    "tags": []
   },
   "outputs": [],
   "source": [
    "train_transform = transforms.Compose([\n",
    "    transforms.ToTensor(),\n",
    "    transforms.RandomHorizontalFlip(p=0.2),\n",
    "    transforms.RandomVerticalFlip(p=0.2),\n",
    "    transforms.RandomResizedCrop((224, 224), antialias=True),\n",
    "    transforms.RandomRotation(15),\n",
    "    transforms.Normalize([0.4210, 0.4001, 0.3761], [0.2109, 0.2083, 0.2143])\n",
    "])\n",
    "dev_transform = transforms.Compose([\n",
    "    transforms.ToTensor(),\n",
    "    transforms.Resize((224, 224), antialias=True),\n",
    "    transforms.Normalize([0.4415, 0.4238, 0.4051], [0.2009, 0.2015, 0.2174])\n",
    "])\n",
    "test_transform = transforms.Compose([\n",
    "    transforms.ToTensor(),\n",
    "    transforms.Resize((224, 224), antialias=True),\n",
    "    transforms.Normalize([0.4539, 0.4426, 0.4285], [0.1931, 0.1915, 0.2124])\n",
    "])\n",
    "train_dataset = CustomDataset(train_df, transform=train_transform)\n",
    "dev_dataset = CustomDataset(dev_df, transform=dev_transform)\n",
    "test_dataset = CustomDataset(test_df, transform=test_transform)"
   ]
  },
  {
   "cell_type": "code",
   "execution_count": 14,
   "id": "fdf4029a",
   "metadata": {
    "execution": {
     "iopub.execute_input": "2024-04-25T09:30:37.354177Z",
     "iopub.status.busy": "2024-04-25T09:30:37.353918Z",
     "iopub.status.idle": "2024-04-25T09:30:37.358533Z",
     "shell.execute_reply": "2024-04-25T09:30:37.357678Z"
    },
    "papermill": {
     "duration": 0.014427,
     "end_time": "2024-04-25T09:30:37.360405",
     "exception": false,
     "start_time": "2024-04-25T09:30:37.345978",
     "status": "completed"
    },
    "tags": []
   },
   "outputs": [],
   "source": [
    "train_dataloader = DataLoader(train_dataset, batch_size=32, shuffle=True)\n",
    "dev_dataloader = DataLoader(dev_dataset, batch_size=8, shuffle=False)\n",
    "test_dataloader = DataLoader(test_dataset, batch_size=1, shuffle=False)"
   ]
  },
  {
   "cell_type": "code",
   "execution_count": 15,
   "id": "d81c4a97",
   "metadata": {
    "execution": {
     "iopub.execute_input": "2024-04-25T09:30:37.376067Z",
     "iopub.status.busy": "2024-04-25T09:30:37.375803Z",
     "iopub.status.idle": "2024-04-25T09:30:37.542381Z",
     "shell.execute_reply": "2024-04-25T09:30:37.541567Z"
    },
    "papermill": {
     "duration": 0.177028,
     "end_time": "2024-04-25T09:30:37.544693",
     "exception": false,
     "start_time": "2024-04-25T09:30:37.367665",
     "status": "completed"
    },
    "tags": []
   },
   "outputs": [],
   "source": [
    "from collections import Counter\n",
    "def find_class_weights(train_dataset):\n",
    "    labels = [label for _, label in train_dataset]\n",
    "    class_counts = Counter(labels)\n",
    "    class_weights = [len(train_dataset) / (class_counts[i] * 1.0) for i in range(len(class_counts))]\n",
    "    class_weights = torch.tensor(class_weights, device=DEVICE)\n",
    "    \n",
    "# class_weights = find_class_weights(train_dataset)\n",
    "class_weights = torch.tensor([11.9352, 19.9115, 10.0173, 5.2726, 17.5792, 8.5847, 25.2461, 6.4165,\n",
    "        10.0671, 9.2301], dtype=torch.float, device=DEVICE)"
   ]
  },
  {
   "cell_type": "code",
   "execution_count": 16,
   "id": "a297225d",
   "metadata": {
    "execution": {
     "iopub.execute_input": "2024-04-25T09:30:37.560909Z",
     "iopub.status.busy": "2024-04-25T09:30:37.560584Z",
     "iopub.status.idle": "2024-04-25T09:30:39.740995Z",
     "shell.execute_reply": "2024-04-25T09:30:39.740146Z"
    },
    "papermill": {
     "duration": 2.191281,
     "end_time": "2024-04-25T09:30:39.743470",
     "exception": false,
     "start_time": "2024-04-25T09:30:37.552189",
     "status": "completed"
    },
    "tags": []
   },
   "outputs": [
    {
     "name": "stderr",
     "output_type": "stream",
     "text": [
      "Downloading: \"https://download.pytorch.org/models/densenet161-8d451a50.pth\" to /root/.cache/torch/hub/checkpoints/densenet161-8d451a50.pth\n",
      "100%|██████████| 110M/110M [00:01<00:00, 90.8MB/s]\n"
     ]
    }
   ],
   "source": [
    "from torchvision import models\n",
    "\n",
    "model = models.densenet161(weights=models.densenet.DenseNet161_Weights.IMAGENET1K_V1)\n",
    "\n",
    "# Freeze feature extractor layers\n",
    "for param in model.parameters():\n",
    "    param.requires_grad = False\n",
    "    \n",
    "parameters = list(model.parameters())\n",
    "for i in range(-3, 0, 1):\n",
    "    parameters[i].requires_grad = True\n",
    "\n",
    "num_ftrs = model.classifier.in_features\n",
    "model.classifier = nn.Sequential(\n",
    "    nn.Linear(num_ftrs, 1024),\n",
    "    nn.BatchNorm1d(1024),\n",
    "    nn.ReLU(),\n",
    "    nn.Dropout(0.2),\n",
    "    nn.Linear(1024, 512),\n",
    "    nn.BatchNorm1d(512),\n",
    "    nn.ReLU(),\n",
    "    nn.Dropout(0.2),\n",
    "    nn.Linear(512, 128),\n",
    "    nn.BatchNorm1d(128),\n",
    "    nn.ReLU(),\n",
    "    nn.Dropout(0.2),\n",
    "    nn.Linear(128, 10)\n",
    ")\n",
    "\n",
    "model = model.to(DEVICE)"
   ]
  },
  {
   "cell_type": "code",
   "execution_count": 17,
   "id": "f02e9e74",
   "metadata": {
    "execution": {
     "iopub.execute_input": "2024-04-25T09:30:39.762270Z",
     "iopub.status.busy": "2024-04-25T09:30:39.761948Z",
     "iopub.status.idle": "2024-04-25T09:50:46.539675Z",
     "shell.execute_reply": "2024-04-25T09:50:46.538784Z"
    },
    "papermill": {
     "duration": 1206.801308,
     "end_time": "2024-04-25T09:50:46.553656",
     "exception": false,
     "start_time": "2024-04-25T09:30:39.752348",
     "status": "completed"
    },
    "tags": []
   },
   "outputs": [
    {
     "name": "stderr",
     "output_type": "stream",
     "text": [
      "  7%|▋         | 1/15 [01:57<27:24, 117.49s/it]"
     ]
    },
    {
     "name": "stdout",
     "output_type": "stream",
     "text": [
      "1th epoch ----> train_accuracy : 0.6274679170779862 |||| dev_accuracy : 0.7685093780848964\n"
     ]
    },
    {
     "name": "stderr",
     "output_type": "stream",
     "text": [
      " 13%|█▎        | 2/15 [03:15<20:25, 94.30s/it] "
     ]
    },
    {
     "name": "stdout",
     "output_type": "stream",
     "text": [
      "2th epoch ----> train_accuracy : 0.6973099703849951 |||| dev_accuracy : 0.851431391905232\n"
     ]
    },
    {
     "name": "stderr",
     "output_type": "stream",
     "text": [
      " 20%|██        | 3/15 [04:33<17:19, 86.66s/it]"
     ]
    },
    {
     "name": "stdout",
     "output_type": "stream",
     "text": [
      "3th epoch ----> train_accuracy : 0.7202615992102666 |||| dev_accuracy : 0.8460019743336624\n"
     ]
    },
    {
     "name": "stderr",
     "output_type": "stream",
     "text": [
      " 27%|██▋       | 4/15 [05:51<15:15, 83.25s/it]"
     ]
    },
    {
     "name": "stdout",
     "output_type": "stream",
     "text": [
      "4th epoch ----> train_accuracy : 0.7334649555774926 |||| dev_accuracy : 0.8677196446199408\n"
     ]
    },
    {
     "name": "stderr",
     "output_type": "stream",
     "text": [
      " 33%|███▎      | 5/15 [07:08<13:32, 81.26s/it]"
     ]
    },
    {
     "name": "stdout",
     "output_type": "stream",
     "text": [
      "5th epoch ----> train_accuracy : 0.7414856860809477 |||| dev_accuracy : 0.8672260612043435\n"
     ]
    },
    {
     "name": "stderr",
     "output_type": "stream",
     "text": [
      " 40%|████      | 6/15 [08:26<12:01, 80.16s/it]"
     ]
    },
    {
     "name": "stdout",
     "output_type": "stream",
     "text": [
      "6th epoch ----> train_accuracy : 0.7346989141164857 |||| dev_accuracy : 0.8800592300098716\n"
     ]
    },
    {
     "name": "stderr",
     "output_type": "stream",
     "text": [
      " 47%|████▋     | 7/15 [09:44<10:35, 79.38s/it]"
     ]
    },
    {
     "name": "stdout",
     "output_type": "stream",
     "text": [
      "7th epoch ----> train_accuracy : 0.7492596248766041 |||| dev_accuracy : 0.8603158933859822\n"
     ]
    },
    {
     "name": "stderr",
     "output_type": "stream",
     "text": [
      " 53%|█████▎    | 8/15 [11:02<09:11, 78.75s/it]"
     ]
    },
    {
     "name": "stdout",
     "output_type": "stream",
     "text": [
      "8th epoch ----> train_accuracy : 0.7544422507403751 |||| dev_accuracy : 0.8756169792694966\n"
     ]
    },
    {
     "name": "stderr",
     "output_type": "stream",
     "text": [
      " 60%|██████    | 9/15 [12:19<07:49, 78.31s/it]"
     ]
    },
    {
     "name": "stdout",
     "output_type": "stream",
     "text": [
      "9th epoch ----> train_accuracy : 0.7528381046396841 |||| dev_accuracy : 0.8820335636722606\n"
     ]
    },
    {
     "name": "stderr",
     "output_type": "stream",
     "text": [
      " 67%|██████▋   | 10/15 [13:36<06:29, 77.99s/it]"
     ]
    },
    {
     "name": "stdout",
     "output_type": "stream",
     "text": [
      "10th epoch ----> train_accuracy : 0.7640671273445212 |||| dev_accuracy : 0.8988153998025666\n"
     ]
    },
    {
     "name": "stderr",
     "output_type": "stream",
     "text": [
      " 73%|███████▎  | 11/15 [14:53<05:10, 77.71s/it]"
     ]
    },
    {
     "name": "stdout",
     "output_type": "stream",
     "text": [
      "11th epoch ----> train_accuracy : 0.7622161895360315 |||| dev_accuracy : 0.8948667324777887\n"
     ]
    },
    {
     "name": "stderr",
     "output_type": "stream",
     "text": [
      " 80%|████████  | 12/15 [16:11<03:53, 77.72s/it]"
     ]
    },
    {
     "name": "stdout",
     "output_type": "stream",
     "text": [
      "12th epoch ----> train_accuracy : 0.7599950641658441 |||| dev_accuracy : 0.8983218163869694\n"
     ]
    },
    {
     "name": "stderr",
     "output_type": "stream",
     "text": [
      " 87%|████████▋ | 13/15 [17:30<02:35, 77.99s/it]"
     ]
    },
    {
     "name": "stdout",
     "output_type": "stream",
     "text": [
      "13th epoch ----> train_accuracy : 0.7675222112537019 |||| dev_accuracy : 0.8864758144126358\n"
     ]
    },
    {
     "name": "stderr",
     "output_type": "stream",
     "text": [
      " 93%|█████████▎| 14/15 [18:48<01:18, 78.07s/it]"
     ]
    },
    {
     "name": "stdout",
     "output_type": "stream",
     "text": [
      "14th epoch ----> train_accuracy : 0.7672754195459033 |||| dev_accuracy : 0.8736426456071076\n"
     ]
    },
    {
     "name": "stderr",
     "output_type": "stream",
     "text": [
      "100%|██████████| 15/15 [20:06<00:00, 80.45s/it]"
     ]
    },
    {
     "name": "stdout",
     "output_type": "stream",
     "text": [
      "15th epoch ----> train_accuracy : 0.7711006910167818 |||| dev_accuracy : 0.8963474827245804\n"
     ]
    },
    {
     "name": "stderr",
     "output_type": "stream",
     "text": [
      "\n"
     ]
    }
   ],
   "source": [
    "criterion = nn.CrossEntropyLoss(weight=class_weights)\n",
    "optimizer = torch.optim.Adam(params=model.parameters(), lr=1e-2)\n",
    "history, best = run_over_epoches(model, train_dataloader, dev_dataloader, criterion, optimizer)"
   ]
  },
  {
   "cell_type": "code",
   "execution_count": 18,
   "id": "77f95f61",
   "metadata": {
    "execution": {
     "iopub.execute_input": "2024-04-25T09:50:46.576833Z",
     "iopub.status.busy": "2024-04-25T09:50:46.576495Z",
     "iopub.status.idle": "2024-04-25T09:50:47.006296Z",
     "shell.execute_reply": "2024-04-25T09:50:47.005328Z"
    },
    "papermill": {
     "duration": 0.443831,
     "end_time": "2024-04-25T09:50:47.008403",
     "exception": false,
     "start_time": "2024-04-25T09:50:46.564572",
     "status": "completed"
    },
    "tags": []
   },
   "outputs": [
    {
     "data": {
      "image/png": "[encoded data removed]",
      "text/plain": [
       "<Figure size 500x500 with 2 Axes>"
      ]
     },
     "metadata": {},
     "output_type": "display_data"
    }
   ],
   "source": [
    "plot_history(history)"
   ]
  },
  {
   "cell_type": "code",
   "execution_count": 19,
   "id": "c06f5d4e",
   "metadata": {
    "execution": {
     "iopub.execute_input": "2024-04-25T09:50:47.033152Z",
     "iopub.status.busy": "2024-04-25T09:50:47.032831Z",
     "iopub.status.idle": "2024-04-25T09:50:47.038386Z",
     "shell.execute_reply": "2024-04-25T09:50:47.037554Z"
    },
    "papermill": {
     "duration": 0.019955,
     "end_time": "2024-04-25T09:50:47.040177",
     "exception": false,
     "start_time": "2024-04-25T09:50:47.020222",
     "status": "completed"
    },
    "tags": []
   },
   "outputs": [
    {
     "data": {
      "text/plain": [
       "0.8988153998025666"
      ]
     },
     "execution_count": 19,
     "metadata": {},
     "output_type": "execute_result"
    }
   ],
   "source": [
    "best[\"accuracy\"]"
   ]
  },
  {
   "cell_type": "code",
   "execution_count": 20,
   "id": "8c1de297",
   "metadata": {
    "execution": {
     "iopub.execute_input": "2024-04-25T09:50:47.065300Z",
     "iopub.status.busy": "2024-04-25T09:50:47.064471Z",
     "iopub.status.idle": "2024-04-25T09:50:47.068254Z",
     "shell.execute_reply": "2024-04-25T09:50:47.067543Z"
    },
    "papermill": {
     "duration": 0.018121,
     "end_time": "2024-04-25T09:50:47.070122",
     "exception": false,
     "start_time": "2024-04-25T09:50:47.052001",
     "status": "completed"
    },
    "tags": []
   },
   "outputs": [],
   "source": [
    "# summary(model, (3, 224, 224))"
   ]
  },
  {
   "cell_type": "code",
   "execution_count": 21,
   "id": "bfe4f4c2",
   "metadata": {
    "execution": {
     "iopub.execute_input": "2024-04-25T09:50:47.094821Z",
     "iopub.status.busy": "2024-04-25T09:50:47.094561Z",
     "iopub.status.idle": "2024-04-25T09:50:47.394326Z",
     "shell.execute_reply": "2024-04-25T09:50:47.393446Z"
    },
    "papermill": {
     "duration": 0.314542,
     "end_time": "2024-04-25T09:50:47.396434",
     "exception": false,
     "start_time": "2024-04-25T09:50:47.081892",
     "status": "completed"
    },
    "tags": []
   },
   "outputs": [],
   "source": [
    "torch.save(best[\"model\"], 'model.pth')"
   ]
  },
  {
   "cell_type": "markdown",
   "id": "bab74e94",
   "metadata": {
    "papermill": {
     "duration": 0.011881,
     "end_time": "2024-04-25T09:50:47.420431",
     "exception": false,
     "start_time": "2024-04-25T09:50:47.408550",
     "status": "completed"
    },
    "tags": []
   },
   "source": [
    "# final result (of totally unseen data)"
   ]
  },
  {
   "cell_type": "code",
   "execution_count": 22,
   "id": "9213402c",
   "metadata": {
    "execution": {
     "iopub.execute_input": "2024-04-25T09:50:47.445134Z",
     "iopub.status.busy": "2024-04-25T09:50:47.444821Z",
     "iopub.status.idle": "2024-04-25T09:51:19.773089Z",
     "shell.execute_reply": "2024-04-25T09:51:19.772183Z"
    },
    "papermill": {
     "duration": 32.343268,
     "end_time": "2024-04-25T09:51:19.775430",
     "exception": false,
     "start_time": "2024-04-25T09:50:47.432162",
     "status": "completed"
    },
    "tags": []
   },
   "outputs": [],
   "source": [
    "number_per_labels = {}\n",
    "correct_per_labels = {}\n",
    "\n",
    "for X, y in test_dataloader:\n",
    "    X, y = X.to(DEVICE), y.to(DEVICE)\n",
    "    with torch.no_grad():\n",
    "        pred = best[\"model\"](X)\n",
    "        pred_index = pred.argmax()\n",
    "        for label in y:\n",
    "            number_per_labels[label.item()] = number_per_labels.get(label.item(), 0) + 1\n",
    "        if pred_index == y:\n",
    "            correct_per_labels[y.item()] = correct_per_labels.get(y.item(), 0) + 1"
   ]
  },
  {
   "cell_type": "code",
   "execution_count": 23,
   "id": "04b21ffe",
   "metadata": {
    "execution": {
     "iopub.execute_input": "2024-04-25T09:51:19.801579Z",
     "iopub.status.busy": "2024-04-25T09:51:19.801224Z",
     "iopub.status.idle": "2024-04-25T09:51:19.808175Z",
     "shell.execute_reply": "2024-04-25T09:51:19.807331Z"
    },
    "papermill": {
     "duration": 0.022202,
     "end_time": "2024-04-25T09:51:19.810275",
     "exception": false,
     "start_time": "2024-04-25T09:51:19.788073",
     "status": "completed"
    },
    "tags": []
   },
   "outputs": [
    {
     "data": {
      "text/plain": [
       "{0: 0.9278350515463918,\n",
       " 3: 0.8616352201257862,\n",
       " 4: 0.7735849056603774,\n",
       " 6: 0.9056603773584906,\n",
       " 2: 0.8615384615384616,\n",
       " 9: 0.9411764705882353,\n",
       " 7: 0.8944444444444445,\n",
       " 5: 0.9649122807017544,\n",
       " 8: 0.9532710280373832,\n",
       " 1: 0.6585365853658537}"
      ]
     },
     "execution_count": 23,
     "metadata": {},
     "output_type": "execute_result"
    }
   ],
   "source": [
    "percentages = {}\n",
    "for label, correct_count in correct_per_labels.items():\n",
    "    total_count = number_per_labels[label]\n",
    "    percentages[label] = correct_count / total_count\n",
    "\n",
    "percentages"
   ]
  },
  {
   "cell_type": "code",
   "execution_count": 24,
   "id": "e4430d37",
   "metadata": {
    "execution": {
     "iopub.execute_input": "2024-04-25T09:51:19.835611Z",
     "iopub.status.busy": "2024-04-25T09:51:19.835303Z",
     "iopub.status.idle": "2024-04-25T09:51:19.841111Z",
     "shell.execute_reply": "2024-04-25T09:51:19.840295Z"
    },
    "papermill": {
     "duration": 0.02065,
     "end_time": "2024-04-25T09:51:19.843049",
     "exception": false,
     "start_time": "2024-04-25T09:51:19.822399",
     "status": "completed"
    },
    "tags": []
   },
   "outputs": [
    {
     "data": {
      "text/plain": [
       "0.8926875593542261"
      ]
     },
     "execution_count": 24,
     "metadata": {},
     "output_type": "execute_result"
    }
   ],
   "source": [
    "total_correct = sum(correct_per_labels.values())\n",
    "total_samples = sum(number_per_labels.values())\n",
    "accuracy = total_correct / total_samples\n",
    "accuracy"
   ]
  },
  {
   "cell_type": "code",
   "execution_count": null,
   "id": "f7d269d9",
   "metadata": {
    "papermill": {
     "duration": 0.011922,
     "end_time": "2024-04-25T09:51:19.866843",
     "exception": false,
     "start_time": "2024-04-25T09:51:19.854921",
     "status": "completed"
    },
    "tags": []
   },
   "outputs": [],
   "source": []
  }
 ],
 "metadata": {
  "kaggle": {
   "accelerator": "gpu",
   "dataSources": [
    {
     "datasetId": 1854018,
     "sourceId": 3027062,
     "sourceType": "datasetVersion"
    }
   ],
   "dockerImageVersionId": 30699,
   "isGpuEnabled": true,
   "isInternetEnabled": true,
   "language": "python",
   "sourceType": "notebook"
  },
  "kernelspec": {
   "display_name": "Python 3",
   "language": "python",
   "name": "python3"
  },
  "language_info": {
   "codemirror_mode": {
    "name": "ipython",
    "version": 3
   },
   "file_extension": ".py",
   "mimetype": "text/x-python",
   "name": "python",
   "nbconvert_exporter": "python",
   "pygments_lexer": "ipython3",
   "version": "3.10.13"
  },
  "papermill": {
   "default_parameters": {},
   "duration": 1257.682339,
   "end_time": "2024-04-25T09:51:22.408508",
   "environment_variables": {},
   "exception": null,
   "input_path": "__notebook__.ipynb",
   "output_path": "__notebook__.ipynb",
   "parameters": {},
   "start_time": "2024-04-25T09:30:24.726169",
   "version": "2.5.0"
  }
 },
 "nbformat": 4,
 "nbformat_minor": 5
}
