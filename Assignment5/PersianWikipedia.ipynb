{
 "cells": [
  {
   "cell_type": "markdown",
   "id": "dfd772ca",
   "metadata": {
    "papermill": {
     "duration": 0.00725,
     "end_time": "2024-06-05T07:06:12.991052",
     "exception": false,
     "start_time": "2024-06-05T07:06:12.983802",
     "status": "completed"
    },
    "tags": []
   },
   "source": [
    "# importing"
   ]
  },
  {
   "cell_type": "code",
   "execution_count": 1,
   "id": "1f72e32e",
   "metadata": {
    "_cell_guid": "b1076dfc-b9ad-4769-8c92-a6c4dae69d19",
    "_uuid": "8f2839f25d086af736a60e9eeb907d3b93b6e0e5",
    "execution": {
     "iopub.execute_input": "2024-06-05T07:06:13.005731Z",
     "iopub.status.busy": "2024-06-05T07:06:13.005389Z",
     "iopub.status.idle": "2024-06-05T07:06:13.037200Z",
     "shell.execute_reply": "2024-06-05T07:06:13.036226Z"
    },
    "papermill": {
     "duration": 0.041501,
     "end_time": "2024-06-05T07:06:13.039265",
     "exception": false,
     "start_time": "2024-06-05T07:06:12.997764",
     "status": "completed"
    },
    "tags": []
   },
   "outputs": [
    {
     "name": "stdout",
     "output_type": "stream",
     "text": [
      "/kaggle/input/persian-wikipedia-dataset/Persian-WikiText-3.txt\n",
      "/kaggle/input/persian-wikipedia-dataset/Persian-WikiText-9.txt\n",
      "/kaggle/input/persian-wikipedia-dataset/Persian-WikiText-5.txt\n",
      "/kaggle/input/persian-wikipedia-dataset/Persian-WikiText-6.txt\n",
      "/kaggle/input/persian-wikipedia-dataset/Persian-WikiText-7.txt\n",
      "/kaggle/input/persian-wikipedia-dataset/Persian-WikiText-2.txt\n",
      "/kaggle/input/persian-wikipedia-dataset/Persian-WikiText-4.txt\n",
      "/kaggle/input/persian-wikipedia-dataset/Persian-WikiText-1.txt\n",
      "/kaggle/input/persian-wikipedia-dataset/Persian-WikiText-8.txt\n"
     ]
    }
   ],
   "source": [
    "import os\n",
    "for dirname, _, filenames in os.walk('/kaggle/input'):\n",
    "    for filename in filenames:\n",
    "        print(os.path.join(dirname, filename))"
   ]
  },
  {
   "cell_type": "code",
   "execution_count": 2,
   "id": "5250483e",
   "metadata": {
    "execution": {
     "iopub.execute_input": "2024-06-05T07:06:13.053963Z",
     "iopub.status.busy": "2024-06-05T07:06:13.053675Z",
     "iopub.status.idle": "2024-06-05T07:06:33.166880Z",
     "shell.execute_reply": "2024-06-05T07:06:33.165663Z"
    },
    "papermill": {
     "duration": 20.12285,
     "end_time": "2024-06-05T07:06:33.169062",
     "exception": false,
     "start_time": "2024-06-05T07:06:13.046212",
     "status": "completed"
    },
    "tags": []
   },
   "outputs": [
    {
     "name": "stdout",
     "output_type": "stream",
     "text": [
      "\u001b[33mWARNING: Error parsing requirements for aiohttp: [Errno 2] No such file or directory: '/opt/conda/lib/python3.10/site-packages/aiohttp-3.9.1.dist-info/METADATA'\u001b[0m\u001b[33m\r\n",
      "\u001b[0m\u001b[31mERROR: pip's dependency resolver does not currently take into account all the packages that are installed. This behaviour is the source of the following dependency conflicts.\r\n",
      "cudf 24.4.1 requires cubinlinker, which is not installed.\r\n",
      "cudf 24.4.1 requires cupy-cuda11x>=12.0.0, which is not installed.\r\n",
      "cudf 24.4.1 requires ptxcompiler, which is not installed.\r\n",
      "cuml 24.4.0 requires cupy-cuda11x>=12.0.0, which is not installed.\r\n",
      "dask-cudf 24.4.1 requires cupy-cuda11x>=12.0.0, which is not installed.\r\n",
      "datasets 2.19.1 requires aiohttp, which is not installed.\r\n",
      "fury 0.10.0 requires aiohttp>=3.8.4, which is not installed.\r\n",
      "keras-nlp 0.12.1 requires keras-core, which is not installed.\r\n",
      "tensorflow-decision-forests 1.8.1 requires wurlitzer, which is not installed.\r\n",
      "albumentations 1.4.0 requires numpy>=1.24.4, but you have numpy 1.24.3 which is incompatible.\r\n",
      "apache-beam 2.46.0 requires dill<0.3.2,>=0.3.1.1, but you have dill 0.3.8 which is incompatible.\r\n",
      "apache-beam 2.46.0 requires pyarrow<10.0.0,>=3.0.0, but you have pyarrow 14.0.2 which is incompatible.\r\n",
      "cudf 24.4.1 requires cuda-python<12.0a0,>=11.7.1, but you have cuda-python 12.5.0 which is incompatible.\r\n",
      "featuretools 1.31.0 requires numpy>=1.25.0, but you have numpy 1.24.3 which is incompatible.\r\n",
      "libpysal 4.9.2 requires packaging>=22, but you have packaging 21.3 which is incompatible.\r\n",
      "libpysal 4.9.2 requires shapely>=2.0.1, but you have shapely 1.8.5.post1 which is incompatible.\r\n",
      "momepy 0.7.0 requires shapely>=2, but you have shapely 1.8.5.post1 which is incompatible.\r\n",
      "osmnx 1.9.3 requires shapely>=2.0, but you have shapely 1.8.5.post1 which is incompatible.\r\n",
      "preprocessing 0.1.13 requires nltk==3.2.4, but you have nltk 3.8.1 which is incompatible.\r\n",
      "pylibraft 24.4.0 requires cuda-python<12.0a0,>=11.7.1, but you have cuda-python 12.5.0 which is incompatible.\r\n",
      "rmm 24.4.0 requires cuda-python<12.0a0,>=11.7.1, but you have cuda-python 12.5.0 which is incompatible.\r\n",
      "spopt 0.6.0 requires shapely>=2.0.1, but you have shapely 1.8.5.post1 which is incompatible.\r\n",
      "tensorflow 2.15.0 requires keras<2.16,>=2.15.0, but you have keras 3.3.3 which is incompatible.\r\n",
      "tensorstore 0.1.59 requires ml-dtypes>=0.3.1, but you have ml-dtypes 0.2.0 which is incompatible.\r\n",
      "woodwork 0.31.0 requires numpy>=1.25.0, but you have numpy 1.24.3 which is incompatible.\r\n",
      "xarray 2024.5.0 requires packaging>=23.1, but you have packaging 21.3 which is incompatible.\u001b[0m\u001b[31m\r\n",
      "\u001b[0mNote: you may need to restart the kernel to use updated packages.\n"
     ]
    }
   ],
   "source": [
    "pip install -q hazm==0.10.0"
   ]
  },
  {
   "cell_type": "code",
   "execution_count": 3,
   "id": "fb6060b8",
   "metadata": {
    "execution": {
     "iopub.execute_input": "2024-06-05T07:06:33.184669Z",
     "iopub.status.busy": "2024-06-05T07:06:33.184370Z",
     "iopub.status.idle": "2024-06-05T07:06:44.077668Z",
     "shell.execute_reply": "2024-06-05T07:06:44.076862Z"
    },
    "papermill": {
     "duration": 10.90365,
     "end_time": "2024-06-05T07:06:44.080021",
     "exception": false,
     "start_time": "2024-06-05T07:06:33.176371",
     "status": "completed"
    },
    "tags": []
   },
   "outputs": [],
   "source": [
    "import hazm\n",
    "import re\n",
    "from collections import Counter\n",
    "import numpy as np\n",
    "import matplotlib.pyplot as plt"
   ]
  },
  {
   "cell_type": "code",
   "execution_count": 4,
   "id": "a661951d",
   "metadata": {
    "execution": {
     "iopub.execute_input": "2024-06-05T07:06:44.096358Z",
     "iopub.status.busy": "2024-06-05T07:06:44.095807Z",
     "iopub.status.idle": "2024-06-05T07:06:47.614711Z",
     "shell.execute_reply": "2024-06-05T07:06:47.613574Z"
    },
    "papermill": {
     "duration": 3.529178,
     "end_time": "2024-06-05T07:06:47.616806",
     "exception": false,
     "start_time": "2024-06-05T07:06:44.087628",
     "status": "completed"
    },
    "tags": []
   },
   "outputs": [
    {
     "data": {
      "text/plain": [
       "<torch._C.Generator at 0x7f6aa85742d0>"
      ]
     },
     "execution_count": 4,
     "metadata": {},
     "output_type": "execute_result"
    }
   ],
   "source": [
    "import torch\n",
    "import torch.nn as nn\n",
    "import torch.optim as optim\n",
    "from torch.utils.data import Dataset, DataLoader, random_split\n",
    "# from tqdm import tqdm\n",
    "\n",
    "torch.manual_seed(42)"
   ]
  },
  {
   "cell_type": "markdown",
   "id": "e917df91",
   "metadata": {
    "papermill": {
     "duration": 0.006909,
     "end_time": "2024-06-05T07:06:47.631035",
     "exception": false,
     "start_time": "2024-06-05T07:06:47.624126",
     "status": "completed"
    },
    "tags": []
   },
   "source": [
    "# preprocessing"
   ]
  },
  {
   "cell_type": "code",
   "execution_count": 5,
   "id": "2edd4a40",
   "metadata": {
    "execution": {
     "iopub.execute_input": "2024-06-05T07:06:47.646621Z",
     "iopub.status.busy": "2024-06-05T07:06:47.646133Z",
     "iopub.status.idle": "2024-06-05T07:06:50.636026Z",
     "shell.execute_reply": "2024-06-05T07:06:50.634958Z"
    },
    "papermill": {
     "duration": 3.000151,
     "end_time": "2024-06-05T07:06:50.638320",
     "exception": false,
     "start_time": "2024-06-05T07:06:47.638169",
     "status": "completed"
    },
    "tags": []
   },
   "outputs": [],
   "source": [
    "text = \"\"\n",
    "file = open(f\"/kaggle/input/persian-wikipedia-dataset/Persian-WikiText-{1}.txt\",'r')\n",
    "text += file.read()\n",
    "text = text[60:]"
   ]
  },
  {
   "cell_type": "code",
   "execution_count": 6,
   "id": "c5b34c0c",
   "metadata": {
    "execution": {
     "iopub.execute_input": "2024-06-05T07:06:50.654423Z",
     "iopub.status.busy": "2024-06-05T07:06:50.654094Z",
     "iopub.status.idle": "2024-06-05T07:06:50.659886Z",
     "shell.execute_reply": "2024-06-05T07:06:50.658953Z"
    },
    "papermill": {
     "duration": 0.015894,
     "end_time": "2024-06-05T07:06:50.661829",
     "exception": false,
     "start_time": "2024-06-05T07:06:50.645935",
     "status": "completed"
    },
    "tags": []
   },
   "outputs": [],
   "source": [
    "def clean_text(text):\n",
    "    hazm.Normalizer().normalize(text)\n",
    "    patterns = [\n",
    "        (r'([\\u0600-\\u06FF]+)', r' \\1 '),\n",
    "        (r'(?:[\\d۰-۹]+(?:[.,/][\\d۰-۹]+)?)', r' NUM '),\n",
    "        (r'([،؛؟»«])\\1*', r' \\1 '),\n",
    "        (r'(\\u200c)+', r' \\1 '),\n",
    "    ]\n",
    "    for pattern, replacement in patterns:\n",
    "        text = re.sub(pattern, replacement, text)\n",
    "    return text"
   ]
  },
  {
   "cell_type": "code",
   "execution_count": 7,
   "id": "d4b46e37",
   "metadata": {
    "execution": {
     "iopub.execute_input": "2024-06-05T07:06:50.677426Z",
     "iopub.status.busy": "2024-06-05T07:06:50.677071Z",
     "iopub.status.idle": "2024-06-05T07:12:53.640775Z",
     "shell.execute_reply": "2024-06-05T07:12:53.639721Z"
    },
    "papermill": {
     "duration": 362.97417,
     "end_time": "2024-06-05T07:12:53.643191",
     "exception": false,
     "start_time": "2024-06-05T07:06:50.669021",
     "status": "completed"
    },
    "tags": []
   },
   "outputs": [],
   "source": [
    "text = clean_text(text)"
   ]
  },
  {
   "cell_type": "code",
   "execution_count": 8,
   "id": "a7d70316",
   "metadata": {
    "execution": {
     "iopub.execute_input": "2024-06-05T07:12:53.659051Z",
     "iopub.status.busy": "2024-06-05T07:12:53.658741Z",
     "iopub.status.idle": "2024-06-05T07:12:53.664442Z",
     "shell.execute_reply": "2024-06-05T07:12:53.663594Z"
    },
    "papermill": {
     "duration": 0.015553,
     "end_time": "2024-06-05T07:12:53.666279",
     "exception": false,
     "start_time": "2024-06-05T07:12:53.650726",
     "status": "completed"
    },
    "tags": []
   },
   "outputs": [
    {
     "data": {
      "text/plain": [
       "' عنوان   مقاله :  ویکی   پدیا \\n\\n ویکی   پدیا  ( کوته   نوشت   به   صورت   «  وپ  »   و   « WP » )  یک   دانشنامه   برخط   چندزبانه   مبتنی   بر   وب   با   محتوای   آزاد   و   همکاری   باز   است   که   با   همکاری   افراد   داوطلب   نوشته   می   شود   و   هر   کسی   که   به   اینترنت   و   وب   دسترسی   داشته   باشد   می   تواند   مقالات   آن   را   ببیند   و   ویرایش   کند .  نام   ویکی   پدیا   واژه   ای   ترکیبی   است   که   از   واژه   های   ویکی  ( وبگاه   مشارکتی )  و   اِنسایکلوپدیا  (Encyclopedia) ( دانشنامه   یا   دائرةالمعارف )  گرفته   شده   است .  هدف   ویکی   پدیا   آفرینش   و   انتشار   جهانی   یک   دانشنامه   با   محتوای   آزاد   به   تمامی   زبان   های   زندهٔ   دنیا   است .\\n\\n ویکی   پدیای   انگلیسی   در   تاریخ    NUM    ژانویه    NUM   (  NUM    دی    NUM  )  به   صورت   مکملی   برای   دانشنامهٔ   تخصصی   نیوپدیا   نوشته   شد .  بنیان   گذاران   آن   «  جیمی   ویلز  »   و   «  لری   سنگر  »   هستند .  هم   اکنون   بنیاد   غیرانتفاعی   ویکی   مدیا   پروژهٔ   ویکی   پدی'"
      ]
     },
     "execution_count": 8,
     "metadata": {},
     "output_type": "execute_result"
    }
   ],
   "source": [
    "text[:1000]"
   ]
  },
  {
   "cell_type": "markdown",
   "id": "f931ce6a",
   "metadata": {
    "papermill": {
     "duration": 0.006855,
     "end_time": "2024-06-05T07:12:53.680326",
     "exception": false,
     "start_time": "2024-06-05T07:12:53.673471",
     "status": "completed"
    },
    "tags": []
   },
   "source": [
    "# defining"
   ]
  },
  {
   "cell_type": "code",
   "execution_count": 9,
   "id": "9525fcad",
   "metadata": {
    "execution": {
     "iopub.execute_input": "2024-06-05T07:12:53.695609Z",
     "iopub.status.busy": "2024-06-05T07:12:53.695342Z",
     "iopub.status.idle": "2024-06-05T07:12:53.705300Z",
     "shell.execute_reply": "2024-06-05T07:12:53.704311Z"
    },
    "papermill": {
     "duration": 0.019773,
     "end_time": "2024-06-05T07:12:53.707181",
     "exception": false,
     "start_time": "2024-06-05T07:12:53.687408",
     "status": "completed"
    },
    "tags": []
   },
   "outputs": [],
   "source": [
    "class Vocabulary:\n",
    "    def __init__(self, freq_threshold, max_size):\n",
    "        self.itos = {0: '<PAD>', 1: '<SOS>', 2: '<EOS>', 3: '<UNK>'}\n",
    "        self.stoi = {k: j for j, k in self.itos.items()}\n",
    "        self.freq_threshold = freq_threshold\n",
    "        self.max_size = max_size\n",
    "        self.tokenizer = hazm.WordTokenizer()\n",
    "\n",
    "\n",
    "    def __len__(self):\n",
    "        return len(self.itos)\n",
    "\n",
    "    def build_vocabulary(self, text):\n",
    "        frequencies = Counter()\n",
    "        frequencies.update(self.tokenizer.tokenize(text))\n",
    "        frequencies = {k: v for k, v in frequencies.items() if v > self.freq_threshold}\n",
    "        frequencies = dict(sorted(frequencies.items(), key=lambda x: -x[1])[:self.max_size - 4])\n",
    "\n",
    "        idx = 4\n",
    "        for word in frequencies:\n",
    "            self.stoi[word] = idx\n",
    "            self.itos[idx] = word\n",
    "            idx += 1\n",
    "            \n",
    "    def get_vocabularies(self):\n",
    "        return self.itos\n",
    "\n",
    "    def numericalize(self, text):\n",
    "        tokenized_text = self.tokenizer.tokenize(text)\n",
    "        numericalized_text = [self.stoi.get(token, self.stoi['<UNK>']) for token in tokenized_text]\n",
    "        return numericalized_text"
   ]
  },
  {
   "cell_type": "code",
   "execution_count": 10,
   "id": "6cc8d480",
   "metadata": {
    "execution": {
     "iopub.execute_input": "2024-06-05T07:12:53.723055Z",
     "iopub.status.busy": "2024-06-05T07:12:53.722768Z",
     "iopub.status.idle": "2024-06-05T07:12:53.730018Z",
     "shell.execute_reply": "2024-06-05T07:12:53.729198Z"
    },
    "papermill": {
     "duration": 0.017071,
     "end_time": "2024-06-05T07:12:53.731803",
     "exception": false,
     "start_time": "2024-06-05T07:12:53.714732",
     "status": "completed"
    },
    "tags": []
   },
   "outputs": [],
   "source": [
    "class CustomDataset(Dataset):\n",
    "    def __init__(self, text, vocab, seq_length=100):\n",
    "        self.vocab = vocab\n",
    "        self.seq_length = seq_length\n",
    "        # Convert tokens to indices using the vocabulary\n",
    "        self.token_indices = self.vocab.numericalize(text)\n",
    "        # Ensure the length is a multiple of seq_length\n",
    "        self.token_indices = self.token_indices[:len(self.token_indices) - len(self.token_indices) % self.seq_length]\n",
    "    \n",
    "    def __len__(self):\n",
    "        return len(self.token_indices) // self.seq_length\n",
    "    \n",
    "    def __getitem__(self, idx):\n",
    "        start = idx * self.seq_length\n",
    "        end = start + self.seq_length + 1\n",
    "        seq = self.token_indices[start:end]\n",
    "        input_seq = torch.tensor(seq[:-1], dtype=torch.long)\n",
    "        target_seq = torch.tensor(seq[1:], dtype=torch.long)\n",
    "        return input_seq, target_seq"
   ]
  },
  {
   "cell_type": "code",
   "execution_count": 11,
   "id": "3829d2d6",
   "metadata": {
    "execution": {
     "iopub.execute_input": "2024-06-05T07:12:53.746799Z",
     "iopub.status.busy": "2024-06-05T07:12:53.746548Z",
     "iopub.status.idle": "2024-06-05T07:12:53.752976Z",
     "shell.execute_reply": "2024-06-05T07:12:53.752180Z"
    },
    "papermill": {
     "duration": 0.015909,
     "end_time": "2024-06-05T07:12:53.754766",
     "exception": false,
     "start_time": "2024-06-05T07:12:53.738857",
     "status": "completed"
    },
    "tags": []
   },
   "outputs": [],
   "source": [
    "class TextGenerationModel(nn.Module):\n",
    "    def __init__(self, vocab_size, embedding_dim, hidden_dim, num_layers):\n",
    "        super(TextGenerationModel, self).__init__()\n",
    "        self.embedding = nn.Embedding(vocab_size, embedding_dim, padding_idx=vocab.stoi['<PAD>'])\n",
    "        self.rnn = nn.LSTM(embedding_dim, hidden_dim, num_layers, batch_first=True, bidirectional=True)\n",
    "        self.fc = nn.Linear(hidden_dim * 2, vocab_size)  # hidden_dim * 2 for bidirectional\n",
    "\n",
    "    def forward(self, x, hidden=None):\n",
    "        x = self.embedding(x)\n",
    "        out, hidden = self.rnn(x, hidden)\n",
    "        out = out.reshape(-1, out.size(2))\n",
    "        out = self.fc(out)\n",
    "        return out"
   ]
  },
  {
   "cell_type": "code",
   "execution_count": 12,
   "id": "311bb46f",
   "metadata": {
    "execution": {
     "iopub.execute_input": "2024-06-05T07:12:53.769957Z",
     "iopub.status.busy": "2024-06-05T07:12:53.769689Z",
     "iopub.status.idle": "2024-06-05T07:12:53.826777Z",
     "shell.execute_reply": "2024-06-05T07:12:53.826062Z"
    },
    "papermill": {
     "duration": 0.067004,
     "end_time": "2024-06-05T07:12:53.828822",
     "exception": false,
     "start_time": "2024-06-05T07:12:53.761818",
     "status": "completed"
    },
    "tags": []
   },
   "outputs": [],
   "source": [
    "DEVICE = \"cuda\" if torch.cuda.is_available() else \"cpu\"\n",
    "\n",
    "def train(model, train_loader, optimizer, criterion):\n",
    "    model.train()\n",
    "    total_loss = 0\n",
    "    for inputs, targets in train_loader:\n",
    "        inputs, targets = inputs.to(DEVICE), targets.to(DEVICE)\n",
    "        optimizer.zero_grad()\n",
    "        outputs = model(inputs)\n",
    "        loss = criterion(outputs, targets.view(-1))\n",
    "        loss.backward()\n",
    "        optimizer.step()\n",
    "        total_loss += loss.item()\n",
    "    average_loss = total_loss / len(train_loader)\n",
    "    print(f'Train Loss: {average_loss}')\n",
    "    return average_loss\n",
    "\n",
    "def evaluate(model, eval_loader, criterion):\n",
    "    model.eval()\n",
    "    total_loss = 0\n",
    "    with torch.no_grad():\n",
    "        for inputs, targets in eval_loader:\n",
    "            inputs, targets = inputs.to(DEVICE), targets.to(DEVICE)\n",
    "            outputs = model(inputs)\n",
    "            loss = criterion(outputs, targets.view(-1))\n",
    "            total_loss += loss.item()\n",
    "    average_loss = total_loss / len(eval_loader)\n",
    "    print(f'Evaluation Loss: {average_loss}')\n",
    "    return average_loss"
   ]
  },
  {
   "cell_type": "code",
   "execution_count": 13,
   "id": "eabcc4c5",
   "metadata": {
    "execution": {
     "iopub.execute_input": "2024-06-05T07:12:53.844283Z",
     "iopub.status.busy": "2024-06-05T07:12:53.844013Z",
     "iopub.status.idle": "2024-06-05T07:12:53.849622Z",
     "shell.execute_reply": "2024-06-05T07:12:53.848725Z"
    },
    "papermill": {
     "duration": 0.015407,
     "end_time": "2024-06-05T07:12:53.851458",
     "exception": false,
     "start_time": "2024-06-05T07:12:53.836051",
     "status": "completed"
    },
    "tags": []
   },
   "outputs": [],
   "source": [
    "EPOCHS = 10\n",
    "def run_over_epochs(model, train_loader, eval_loader, optimizer, criterion):\n",
    "    history = {\"loss\": [], \"eval_loss\": []}\n",
    "    for epoch in range(1, EPOCHS + 1):\n",
    "        print(f\"Epoch ({epoch}) :\")\n",
    "        train_loss = train(model, train_loader, optimizer, criterion)\n",
    "        eval_loss = evaluate(model, eval_loader, criterion)\n",
    "        history[\"loss\"].append(train_loss)\n",
    "        history[\"eval_loss\"].append(eval_loss)\n",
    "    return history"
   ]
  },
  {
   "cell_type": "code",
   "execution_count": 14,
   "id": "1e73fe0a",
   "metadata": {
    "execution": {
     "iopub.execute_input": "2024-06-05T07:12:53.866969Z",
     "iopub.status.busy": "2024-06-05T07:12:53.866676Z",
     "iopub.status.idle": "2024-06-05T07:12:53.871908Z",
     "shell.execute_reply": "2024-06-05T07:12:53.871184Z"
    },
    "papermill": {
     "duration": 0.015139,
     "end_time": "2024-06-05T07:12:53.873756",
     "exception": false,
     "start_time": "2024-06-05T07:12:53.858617",
     "status": "completed"
    },
    "tags": []
   },
   "outputs": [],
   "source": [
    "def plot_history(history):\n",
    "    x_axis = range(1, len(history[\"loss\"]) + 1)\n",
    "    plt.plot(x_axis, history[\"loss\"], label='Train Loss')\n",
    "    plt.plot(x_axis, history[\"eval_loss\"], label='Evaluation Loss')\n",
    "    plt.xlabel('Epochs')\n",
    "    plt.ylabel('Loss')\n",
    "    plt.legend()\n",
    "    plt.show()"
   ]
  },
  {
   "cell_type": "markdown",
   "id": "cac2dd47",
   "metadata": {
    "papermill": {
     "duration": 0.007933,
     "end_time": "2024-06-05T07:12:53.888959",
     "exception": false,
     "start_time": "2024-06-05T07:12:53.881026",
     "status": "completed"
    },
    "tags": []
   },
   "source": [
    "# running"
   ]
  },
  {
   "cell_type": "code",
   "execution_count": 15,
   "id": "f0f91cae",
   "metadata": {
    "execution": {
     "iopub.execute_input": "2024-06-05T07:12:53.904288Z",
     "iopub.status.busy": "2024-06-05T07:12:53.904033Z",
     "iopub.status.idle": "2024-06-05T07:13:22.304578Z",
     "shell.execute_reply": "2024-06-05T07:13:22.303442Z"
    },
    "papermill": {
     "duration": 28.410443,
     "end_time": "2024-06-05T07:13:22.306522",
     "exception": false,
     "start_time": "2024-06-05T07:12:53.896079",
     "status": "completed"
    },
    "tags": []
   },
   "outputs": [
    {
     "name": "stdout",
     "output_type": "stream",
     "text": [
      "First 100 items in the stoi:\n",
      "[('<PAD>', 0), ('<SOS>', 1), ('<EOS>', 2), ('<UNK>', 3), ('و', 4), ('.', 5), ('در', 6), ('،', 7), ('به', 8), ('از', 9), ('NUM', 10), ('می', 11), ('که', 12), ('این', 13), ('را', 14), ('های', 15), ('است', 16), ('با', 17), ('آن', 18), ('ها', 19), ('(', 20), (')', 21), ('سال', 22), ('برای', 23), ('یک', 24)]\n",
      "\n",
      "\n",
      "Numericalized sample text : \n",
      "[3, 9, 888, 176, 23, 444]\n"
     ]
    }
   ],
   "source": [
    "# Vocabulary\n",
    "vocab = Vocabulary(freq_threshold=3, max_size=10000)\n",
    "vocab.build_vocabulary(text)\n",
    "vocab_size = len(vocab)\n",
    "\n",
    "\n",
    "# Print some parts of the vocabulary\n",
    "print(\"First 100 items in the stoi:\")\n",
    "print(list(vocab.stoi.items())[:25])\n",
    "\n",
    "sample_text = \"نمونه‌ای از متن فارسی برای بررسی\"\n",
    "numericalized_text = vocab.numericalize(sample_text)\n",
    "print(f'\\n\\nNumericalized sample text : \\n{numericalized_text}')"
   ]
  },
  {
   "cell_type": "code",
   "execution_count": 16,
   "id": "03f3a99d",
   "metadata": {
    "execution": {
     "iopub.execute_input": "2024-06-05T07:13:22.323279Z",
     "iopub.status.busy": "2024-06-05T07:13:22.322658Z",
     "iopub.status.idle": "2024-06-05T07:13:51.493385Z",
     "shell.execute_reply": "2024-06-05T07:13:51.492343Z"
    },
    "papermill": {
     "duration": 29.181639,
     "end_time": "2024-06-05T07:13:51.495989",
     "exception": false,
     "start_time": "2024-06-05T07:13:22.314350",
     "status": "completed"
    },
    "tags": []
   },
   "outputs": [],
   "source": [
    "# Create PersianWikiDataset object\n",
    "dataset = CustomDataset(text, vocab, seq_length=25)\n",
    "\n",
    "# Calculate sizes of splits\n",
    "dataset_size = len(dataset)\n",
    "train_size = int(np.floor(0.8 * dataset_size))\n",
    "val_size = int(np.floor(0.1 * dataset_size))\n",
    "test_size = dataset_size - train_size - val_size\n",
    "\n",
    "# Split dataset into train, validation, and test sets\n",
    "train_dataset, val_dataset, test_dataset = random_split(dataset, [train_size, val_size, test_size], generator=torch.Generator().manual_seed(42))\n",
    "\n",
    "# collate_fn\n",
    "def collate_fn(batch):\n",
    "    inputs, targets = zip(*batch)\n",
    "    inputs = torch.nn.utils.rnn.pad_sequence(inputs, batch_first=True, padding_value=vocab.stoi['<PAD>'])\n",
    "    targets = torch.nn.utils.rnn.pad_sequence(targets, batch_first=True, padding_value=vocab.stoi['<PAD>'])\n",
    "    return inputs, targets\n",
    "\n",
    "# Create data loaders for each set\n",
    "train_loader = DataLoader(train_dataset, batch_size=64, shuffle=True, collate_fn=collate_fn)\n",
    "val_loader = DataLoader(val_dataset, batch_size=64, shuffle=False, collate_fn=collate_fn)\n",
    "test_loader = DataLoader(test_dataset, batch_size=64, shuffle=False, collate_fn=collate_fn)"
   ]
  },
  {
   "cell_type": "code",
   "execution_count": 17,
   "id": "26fbe825",
   "metadata": {
    "execution": {
     "iopub.execute_input": "2024-06-05T07:13:51.512345Z",
     "iopub.status.busy": "2024-06-05T07:13:51.512036Z",
     "iopub.status.idle": "2024-06-05T07:50:01.129253Z",
     "shell.execute_reply": "2024-06-05T07:50:01.128301Z"
    },
    "papermill": {
     "duration": 2169.627848,
     "end_time": "2024-06-05T07:50:01.131501",
     "exception": false,
     "start_time": "2024-06-05T07:13:51.503653",
     "status": "completed"
    },
    "tags": []
   },
   "outputs": [
    {
     "name": "stdout",
     "output_type": "stream",
     "text": [
      "Epoch (1) :\n",
      "Train Loss: 2.347381896959058\n",
      "Evaluation Loss: 2.8583091009403514\n",
      "Epoch (2) :\n",
      "Train Loss: 0.8798125257576298\n",
      "Evaluation Loss: 0.5282901006128701\n",
      "Epoch (3) :\n",
      "Train Loss: 0.40277637045060877\n",
      "Evaluation Loss: 0.3078195228133969\n",
      "Epoch (4) :\n",
      "Train Loss: 0.2705436297733672\n",
      "Evaluation Loss: 0.2576260501554257\n",
      "Epoch (5) :\n",
      "Train Loss: 0.23294864779076196\n",
      "Evaluation Loss: 0.2327673965156154\n",
      "Epoch (6) :\n",
      "Train Loss: 0.2194538826809863\n",
      "Evaluation Loss: 0.22860400450471388\n",
      "Epoch (7) :\n",
      "Train Loss: 0.21081655914216516\n",
      "Evaluation Loss: 0.23051457743529888\n",
      "Epoch (8) :\n",
      "Train Loss: 0.20303530491303054\n",
      "Evaluation Loss: 0.22923630549653853\n",
      "Epoch (9) :\n",
      "Train Loss: 0.19823672015489055\n",
      "Evaluation Loss: 0.23886961734491308\n",
      "Epoch (10) :\n",
      "Train Loss: 0.19291102142086197\n",
      "Evaluation Loss: 0.23224969506641455\n"
     ]
    }
   ],
   "source": [
    "# Parameters\n",
    "embedding_dim = 128\n",
    "hidden_dim = 256\n",
    "num_layers = 4\n",
    "\n",
    "model = TextGenerationModel(vocab_size, embedding_dim, hidden_dim, num_layers).to(DEVICE)\n",
    "criterion = nn.CrossEntropyLoss(ignore_index=vocab.stoi['<PAD>'])\n",
    "optimizer = optim.Adam(model.parameters(), lr=0.001)\n",
    "\n",
    "history = run_over_epochs(model, train_loader, val_loader, optimizer, criterion)"
   ]
  },
  {
   "cell_type": "code",
   "execution_count": 18,
   "id": "e337ae2f",
   "metadata": {
    "execution": {
     "iopub.execute_input": "2024-06-05T07:50:01.150756Z",
     "iopub.status.busy": "2024-06-05T07:50:01.150483Z",
     "iopub.status.idle": "2024-06-05T07:50:01.403209Z",
     "shell.execute_reply": "2024-06-05T07:50:01.402368Z"
    },
    "papermill": {
     "duration": 0.264737,
     "end_time": "2024-06-05T07:50:01.405280",
     "exception": false,
     "start_time": "2024-06-05T07:50:01.140543",
     "status": "completed"
    },
    "tags": []
   },
   "outputs": [
    {
     "data": {
      "image/png": "[encoded data removed]",
      "text/plain": [
       "<Figure size 640x480 with 1 Axes>"
      ]
     },
     "metadata": {},
     "output_type": "display_data"
    }
   ],
   "source": [
    "plot_history(history)"
   ]
  },
  {
   "cell_type": "code",
   "execution_count": 19,
   "id": "feb0c868",
   "metadata": {
    "execution": {
     "iopub.execute_input": "2024-06-05T07:50:01.425251Z",
     "iopub.status.busy": "2024-06-05T07:50:01.424986Z",
     "iopub.status.idle": "2024-06-05T07:50:01.497186Z",
     "shell.execute_reply": "2024-06-05T07:50:01.496374Z"
    },
    "papermill": {
     "duration": 0.085901,
     "end_time": "2024-06-05T07:50:01.500566",
     "exception": false,
     "start_time": "2024-06-05T07:50:01.414665",
     "status": "completed"
    },
    "tags": []
   },
   "outputs": [
    {
     "name": "stdout",
     "output_type": "stream",
     "text": [
      "Original Sentence: که از جانب ستارگان دیگر می آید باید توسط خورشید خم می شود . در سال NUM ، این پیش بینی توسط آرتور <UNK> طی\n",
      "Predicted Next Word: NUM\n",
      "---------------------------------------------------------------------------------------------------------------\n",
      "Original Sentence: در فرهنگ اسلامی به معنای عقب نشینی از نیل به <UNK> کمال و سقوط به وادی <UNK> ابدی و <UNK> ، گرفتار آمدن به <UNK>\n",
      "Predicted Next Word: <UNK>\n",
      "---------------------------------------------------------------------------------------------------------------\n",
      "Original Sentence: سنتور ، در کامبوج فی و در آمریکا <UNK> می نامند که هر کدام دارای وجه <UNK> هستند . ساز سنتور در شماری از کشورها\n",
      "Predicted Next Word: ،\n",
      "---------------------------------------------------------------------------------------------------------------\n",
      "Original Sentence: » ( <UNK> ) بود و انتهای آن تا بندر <UNK> که نزدیک ترین منطقه در ساحل فرانسه به انگلستان بود ، امتداد داشت .\n",
      "Predicted Next Word: در\n",
      "---------------------------------------------------------------------------------------------------------------\n",
      "Original Sentence: را از لاور <UNK> تأمین کرده_اند . <UNK> مانند سایر اهل نقاط جنوب عادت به مسافرت آن سوی خلیج فارس دارند . از شمال کوه\n",
      "Predicted Next Word: <UNK>\n",
      "---------------------------------------------------------------------------------------------------------------\n",
      "Original Sentence: جزو یکی از بیماری های <UNK> های پوست یعنی مو است . ریشه مو در فضای کانال مانندی به اسم <UNK> مو قرار گرفته و\n",
      "Predicted Next Word: به\n",
      "---------------------------------------------------------------------------------------------------------------\n",
      "Original Sentence: که از جمله آنها می توان به فیلم روز واقعه و مجموعه تلویزیونی شیخ بهایی اشاره کرد . عنوان مقاله : زبان <UNK> زبان <UNK>\n",
      "Predicted Next Word: <UNK>\n",
      "---------------------------------------------------------------------------------------------------------------\n",
      "Original Sentence: را به شکوه سابق خود <UNK> ، دریافتند . در نظر برنز ، او شخصیتی کامل در هر شرایطی بود . هنگامی که سیاست بریتانیا\n",
      "Predicted Next Word: و\n",
      "---------------------------------------------------------------------------------------------------------------\n",
      "Original Sentence: ( از جمله قیصر امین پور ، سید حسن حسینی و دیگران ) شد تا رباعی های انقلابی <UNK> . « مرغ سحر » جایگاهی\n",
      "Predicted Next Word: <UNK>\n",
      "---------------------------------------------------------------------------------------------------------------\n",
      "Original Sentence: اساس ، دانشگاه صنعت آب و برق ( شهید <UNK> ) نیز با کلیه امکانات ، منابع ، <UNK> ، وظایف ، اختیارات ، <UNK>\n",
      "Predicted Next Word: ،\n",
      "---------------------------------------------------------------------------------------------------------------\n",
      "Original Sentence: ( بیست و نه گودال ) را کشف کردند . بااین همه علاقهٔ جوامع باستان شناسی به کاوش های <UNK> به تدریج رنگ باخت ،\n",
      "Predicted Next Word: و\n",
      "---------------------------------------------------------------------------------------------------------------\n",
      "Original Sentence: تسلط کامل داشت و <UNK> بسیاری دربارهٔ آن نوشت . مدیریت داخلی مجله « بانو » ، دبیری مجله « جهان نو » و عضویت\n",
      "Predicted Next Word: <UNK>\n",
      "---------------------------------------------------------------------------------------------------------------\n",
      "Original Sentence: مهری ) ( <UNK> سید مرتضی مهری ) ( <UNK> سید حسن مرعشی ) ( <UNK> سید حسن مرعشی ) ( <UNK> سید محمد علی\n",
      "Predicted Next Word: <UNK>\n",
      "---------------------------------------------------------------------------------------------------------------\n",
      "Original Sentence: ورزشگاه کارگران انجام می شد . در شهریور NUM ، پس از انتقال باشگاه راه آهن به <UNK> ، پرسپولیس ورزشگاه راه آهن را به\n",
      "Predicted Next Word: عنوان\n",
      "---------------------------------------------------------------------------------------------------------------\n",
      "Original Sentence: در ابتدای <UNK> پایانی اظهار شده_است که بیشتر بازیگران نقش اصلی فیلم ، نقش <UNK> را در سینما ایفا کرده_اند . عنوان مقاله : <UNK>\n",
      "Predicted Next Word: <UNK>\n",
      "---------------------------------------------------------------------------------------------------------------\n",
      "Original Sentence: کنترل دبی پمپ ، استفاده از پمپ هایی با ظرفیت بالاتر از حد نیاز و نگهداری نامناسب پمپ ها جستجو کرد . کارخانه های سازنده\n",
      "Predicted Next Word: ،\n",
      "---------------------------------------------------------------------------------------------------------------\n",
      "Original Sentence: ها و دشت های سرسبز ، امامزاده ها ، <UNK> ، قلعه ها ، <UNK> ، مساجد ، آب انبارها آتشکده ها ، پل ها\n",
      "Predicted Next Word: ،\n",
      "---------------------------------------------------------------------------------------------------------------\n",
      "Original Sentence: امروزه پارک شهر تشکیل می دهد ، در گذشته یکی از مراکز مهم سیاسی بود و با اینکه در حال حاضر تقریباً از بین رفته\n",
      "Predicted Next Word: و\n",
      "---------------------------------------------------------------------------------------------------------------\n",
      "Original Sentence: میان ایران و انگلیس درخواست کمک کرد و <UNK> ارزشمندی ، از جمله نشان شیر و خورشید ، <UNK> همایون و چندین رشته مروارید برای\n",
      "Predicted Next Word: <UNK>\n",
      "---------------------------------------------------------------------------------------------------------------\n",
      "Original Sentence: نیز سه ترانه ماندگار « برگ <UNK> » ، « افسانه محبت » و « می زده » را ساخت که هر سه ترانه را\n",
      "Predicted Next Word: به\n",
      "---------------------------------------------------------------------------------------------------------------\n",
      "Original Sentence: بود . این مسابقه بزرگ ترین <UNK> شطرنج هم زمان ایران در آن زمان بود . <UNK> <UNK> در سال NUM به آمریکا مهاجرت کرد\n",
      "Predicted Next Word: .\n",
      "---------------------------------------------------------------------------------------------------------------\n",
      "Original Sentence: الرّضا گزارش شده_است ، از جمله مسمومیت با عسل که علی بن زید بیهقی آن <UNK> کرده_است . پس از <UNK> علی بن موسی الرّضا\n",
      "Predicted Next Word: و\n",
      "---------------------------------------------------------------------------------------------------------------\n",
      "Original Sentence: و پاسخ گروهی آماری تکیه دارد و بنابراین از نفوذ افراد برجسته در <UNK> بحث یا فشار گروه برای <UNK> اجتناب می کند ، با\n",
      "Predicted Next Word: این\n",
      "---------------------------------------------------------------------------------------------------------------\n",
      "Original Sentence: ؟ فاکس پاسخ می دهد که اهورامزدا با خلق موجودات آزاد ، نیروهای « <UNK> <UNK> » خلق می کند که باز سؤال ایجاد می\n",
      "Predicted Next Word: شود\n",
      "---------------------------------------------------------------------------------------------------------------\n",
      "Original Sentence: خود رکورد قابل توجهی بود . خوانندگی او توجه ها را به خود جلب کرد و پس از مرداب ، شماعی زاده ترانه های <UNK>\n",
      "Predicted Next Word: و\n",
      "---------------------------------------------------------------------------------------------------------------\n",
      "Original Sentence: مجدداً به امپراتور انتقال یافت . با از <UNK> اداره امور حکومتی ، دولت جدید ذیل « امپراتور <UNK> » سیاست گذاری های <UNK> ،\n",
      "Predicted Next Word: <UNK>\n",
      "---------------------------------------------------------------------------------------------------------------\n",
      "Original Sentence: مکان کردند . یونگ به عضویت انجمن <UNK> دانشگاه درآمد . او در <UNK> و <UNK> <UNK> کردن های عقلانی پیشرفت فوق العاده ای داشت\n",
      "Predicted Next Word: .\n",
      "---------------------------------------------------------------------------------------------------------------\n",
      "Original Sentence: سوزی را به مردم این خطه <UNK> . او در سال ( NUM ق ) همدان را تسخیر نمود و قلعه قدیمی شهر واقع بر\n",
      "Predicted Next Word: این\n",
      "---------------------------------------------------------------------------------------------------------------\n",
      "Original Sentence: آتشکده ها را از وجود مغان پاک کرد ، مردم از جور <UNK> که در آتشکده <UNK> داشت ، به <UNK> آمدند و از اسکندر\n",
      "Predicted Next Word: <UNK>\n",
      "---------------------------------------------------------------------------------------------------------------\n",
      "Original Sentence: <UNK> و نام پدرش یوسف بن <UNK> بن <UNK> بوده_است : دربارهٔ زادگاه پدری او اختلاف نظر است . برخی از منابع او را از\n",
      "Predicted Next Word: آن\n",
      "---------------------------------------------------------------------------------------------------------------\n",
      "Original Sentence: NUM – NUM . عنوان مقاله : کشیش کشیش یا پدر روحانی یا <UNK> نامی است برای رده ای از روحانیان مسیحی . در کلیسای\n",
      "Predicted Next Word: <UNK>\n",
      "---------------------------------------------------------------------------------------------------------------\n",
      "Original Sentence: روح باید جسم ها و جامه های مختلف از جمله مرحله جانوری ، <UNK> ، جمادی و … را طی کند و در هر مرحله\n",
      "Predicted Next Word: در\n",
      "---------------------------------------------------------------------------------------------------------------\n",
      "Original Sentence: راه کنترل و حفاظت اشیاء گوناگون که متناسب نیست در نظر <UNK> . به طور طبیعی و به راحتی در پایگاه داده های مشترک وجود\n",
      "Predicted Next Word: دارد\n",
      "---------------------------------------------------------------------------------------------------------------\n",
      "Original Sentence: شد . او سپس در کابینه <UNK> خان تنکابنی سپهدار اعظم در سمت خود <UNK> شد و در ترمیم کابینه در NUM اردیبهشت NUM به\n",
      "Predicted Next Word: عنوان\n",
      "---------------------------------------------------------------------------------------------------------------\n",
      "Original Sentence: یکی از شاهزادگان <UNK> ( اشکانیان ارمنستان ) ، <UNK> ، از سوی رومیان به عنوان شاه جدید ارمنیان <UNK> <UNK> . با این حال\n",
      "Predicted Next Word: ،\n",
      "---------------------------------------------------------------------------------------------------------------\n",
      "Original Sentence: رشد سیستم ایمنی بدن ایفا کرده و ممکن است باعث خطر بالاتر ابتلا به زوال شناختی شود . افراد دارای گروه خونی O از ماده\n",
      "Predicted Next Word: NUM\n",
      "---------------------------------------------------------------------------------------------------------------\n",
      "Original Sentence: . تاریخ تولد اسماعیل میرزا در میان مورخین مورد اختلاف است . حسن بیک <UNK> در <UNK> التواریخ تاریخ میلاد او را NUM هجری قمری\n",
      "Predicted Next Word: و\n",
      "---------------------------------------------------------------------------------------------------------------\n",
      "Original Sentence: تر موارد پایه گذار یک نظام حکومتی استبدادی اطلاق می شود . معنای این واژه در تعاریف جدید خود در بسیاری از مواقع با بی\n",
      "Predicted Next Word: <UNK>\n",
      "---------------------------------------------------------------------------------------------------------------\n",
      "Original Sentence: قمری شهاب سنگی در روستای <UNK> واقع در بخش <UNK> در شهرستان ساری ، سقوط کرد که به نام « شهاب سنگ اسپهبد <UNK> »\n",
      "Predicted Next Word: و\n",
      "---------------------------------------------------------------------------------------------------------------\n",
      "Original Sentence: ؛ از <UNK> تا امروز \" اظهار کرد : در برخی نقاط بنا به دلایل طبیعی و انسانی ، خطوط ساحلی دستخوش تغییرات می شوند\n",
      "Predicted Next Word: .\n",
      "---------------------------------------------------------------------------------------------------------------\n",
      "Original Sentence: ستم کننده به دشمن و ده هزار نفری می باشند . یعنی ایل <UNK> ( <UNK> احمد ) با تعداد نفرات کثیر بزرگترین ایل منطقه\n",
      "Predicted Next Word: و\n",
      "---------------------------------------------------------------------------------------------------------------\n",
      "Original Sentence: برای عموم بود . <UNK> توسط <UNK> برای انتشار به تعویق افتاد ، اما با اطلاع ویلیام دین <UNK> ، <UNK> مجله <UNK> ، <UNK>\n",
      "Predicted Next Word: <UNK>\n",
      "---------------------------------------------------------------------------------------------------------------\n",
      "Original Sentence: <UNK> بدن و لباس اشاره کرد که همه این موارد در جایگاه خود تأثیر به سزایی در سلامت فرد و در وسعت بیشتر در سلامت\n",
      "Predicted Next Word: <UNK>\n",
      "---------------------------------------------------------------------------------------------------------------\n",
      "Original Sentence: حمل و نقل ونکوور با <UNK> NUM میلیارد دلار که توسط دولت بریتیش کلمبیا طراحی و اجرا می شود ) در چند سال آینده تکمیل\n",
      "Predicted Next Word: شد\n",
      "---------------------------------------------------------------------------------------------------------------\n",
      "Original Sentence: شگفتی متوجه شدند که <UNK> به نام فردریک کوک ادعا کرده_است که پیش از آن ها به قطب شمال رسیده_است ! پری مجبور شد تا\n",
      "Predicted Next Word: از\n",
      "---------------------------------------------------------------------------------------------------------------\n",
      "Original Sentence: <UNK> و زیست <UNK> است . امروزه در مجموع NUM ٫ NUM ٪ از خاک زمین ، ویژهٔ کشاورزی است ؛ که از آن میان\n",
      "Predicted Next Word: <UNK>\n",
      "---------------------------------------------------------------------------------------------------------------\n",
      "Original Sentence: پایه ای می تواند زمینهٔ « پژوهش کاربردی » را فراهم آورد ، اما در <UNK> اول متوجه کاربرد آن در زندگی انسان ها نیست\n",
      "Predicted Next Word: .\n",
      "---------------------------------------------------------------------------------------------------------------\n",
      "Original Sentence: به پیمان ضد کمونیسم سر باز زد روابط آلمان و انگلستان تضعیف شد . هیتلر از طریق سوئیس بارها دخالت های انگلستان در روابط آلمان\n",
      "Predicted Next Word: و\n",
      "---------------------------------------------------------------------------------------------------------------\n",
      "Original Sentence: اساس مبانی تقویم جلالی ( ایجاد شده در NUM هجری قمری ) و پس از تغییراتی در تقویم جلالی در قالب تقویم هجری خورشیدی <UNK>\n",
      "Predicted Next Word: و\n",
      "---------------------------------------------------------------------------------------------------------------\n",
      "Original Sentence: بخش پایینی گنبد _ حلقه ای که گنبد را استوار می کند _ آغاز شد ، به پایان رساندن طرح اجتناب ناپذیر بود . در\n",
      "Predicted Next Word: سال\n",
      "---------------------------------------------------------------------------------------------------------------\n",
      "Original Sentence: پایان آن NUM روز ( در سال عادی ) یا NUM روز ( در سال کبیسه ) مانده_است . روز عقد محمد و <UNK> عنوان\n",
      "Predicted Next Word: مقاله\n",
      "---------------------------------------------------------------------------------------------------------------\n",
      "Original Sentence: فارسی کتابی است از چارلز <UNK> که در مورد <UNK> معماری در اواخر قرن بیستم است . بنیانگذار و صاحب سبک در این مقوله فرانک\n",
      "Predicted Next Word: <UNK>\n",
      "---------------------------------------------------------------------------------------------------------------\n",
      "Original Sentence: محدودهٔ شهرستان آستارا رودهای <UNK> چون <UNK> ، <UNK> و <UNK> جریان دارند . با محاسبه علمی رشد سالانه جمعیت ، جمعیت شهری <UNK> در\n",
      "Predicted Next Word: سال\n",
      "---------------------------------------------------------------------------------------------------------------\n",
      "Original Sentence: همیشه در فکر انتقام باشید … اما در مورد آن چیزی <UNK> . » به گفتهٔ <UNK> در \" دانشنامهٔ اسلام \" ، پس از\n",
      "Predicted Next Word: <UNK>\n",
      "---------------------------------------------------------------------------------------------------------------\n",
      "Original Sentence: پدرش علاقهٔ کمی به ورزش یا بازی های المپیک نشان می داد و تنها در جستجوی آرمان های <UNK> عزت ( <UNK> ) و افتخار\n",
      "Predicted Next Word: <UNK>\n",
      "---------------------------------------------------------------------------------------------------------------\n",
      "Original Sentence: در قرون وسطی <UNK> در مورد ماهیت طبیعت ارائه کرده_اند . فلاسفه مسلمان ( تحت تأثیر سنت فلسفه یونان ) بر این باور بودند که\n",
      "Predicted Next Word: در\n",
      "---------------------------------------------------------------------------------------------------------------\n",
      "Original Sentence: <UNK> کورش از این اتفاق <UNK> شد . <UNK> آ <UNK> <UNK> دست بریده را از کورش گرفت ، آن را <UNK> و سعی کرد\n",
      "Predicted Next Word: .\n",
      "---------------------------------------------------------------------------------------------------------------\n",
      "Original Sentence: نام و گاه نمونه هایی از واژه ها یا جمله های برخی از زبان ها و گویش های ایرانی نو را - که پیش از\n",
      "Predicted Next Word: <UNK>\n",
      "---------------------------------------------------------------------------------------------------------------\n",
      "Original Sentence: گرفته_است همچنین در روستای <UNK> شهرستان آستارا در بخش خلج محله نیز ساکن هستند . مطالعاتی که از منابع بعد از اسلام به عمل آمده\n",
      "Predicted Next Word: و\n",
      "---------------------------------------------------------------------------------------------------------------\n",
      "Original Sentence: زیبایی به شهر داده_اند . آخرین پل اهواز با نام پل نهم در NUM به بهره برداری رسید . مهندسی آلمانی به اتفاق همسر <UNK>\n",
      "Predicted Next Word: در\n",
      "---------------------------------------------------------------------------------------------------------------\n",
      "Original Sentence: صد کیلو داماد به کارگردانی عباس <UNK> در سال NUM بود . وی در سال NUM توسط مسعود <UNK> به فیلم قیصر دعوت شد و\n",
      "Predicted Next Word: در\n",
      "---------------------------------------------------------------------------------------------------------------\n",
      "Original Sentence: » را نزد یکی از بستگان دانیل گسیل داشتند . وی با شنیدن دستور پادشاه <UNK> نزد دانیل رفت ، نشانه های الفبا را از\n",
      "Predicted Next Word: آن\n",
      "---------------------------------------------------------------------------------------------------------------\n",
      "Original Sentence: در آن گنجانده شده_است ( و حتی برخی از این ایده ها در پروژه بعدی <UNK> پس از <UNK> یعنی وب معنایی به کار گرفته_شد\n",
      "Predicted Next Word: .\n",
      "---------------------------------------------------------------------------------------------------------------\n",
      "Original Sentence: . گوشه های زیر <UNK> شوشتری محسوب می شوند : <UNK> گوشه ای کوچک است که در شوشتری اجرا می شود و از توابع شوشتری\n",
      "Predicted Next Word: و\n",
      "---------------------------------------------------------------------------------------------------------------\n"
     ]
    }
   ],
   "source": [
    "def show_predictions(model, test_loader, vocab):\n",
    "    model.eval()\n",
    "    with torch.no_grad():\n",
    "        for inputs, targets in test_loader:\n",
    "            inputs = inputs.to(DEVICE)\n",
    "            outputs = model(inputs)\n",
    "            batch_size, seq_length = inputs.size()\n",
    "\n",
    "            # Reshape outputs to [batch_size, seq_length, vocab_size]\n",
    "            outputs = outputs.view(batch_size, seq_length, -1)\n",
    "            \n",
    "            # Get the last time step output for each sequence in the batch\n",
    "            last_time_step_outputs = outputs[:, -1, :]\n",
    "        \n",
    "            # Get the index of the maximum value (predicted word) for each sequence\n",
    "            _, predicted_indices = torch.max(last_time_step_outputs, dim=1)\n",
    "            predicted_words = [vocab.itos[idx.item()] for idx in predicted_indices]\n",
    "            original_sentences = [[vocab.itos[idx.item()] for idx in sentence if idx.item() != vocab.stoi['<PAD>']] for sentence in inputs]\n",
    "            \n",
    "            for original_sentence, predicted_word in zip(original_sentences, predicted_words):\n",
    "                print(\"Original Sentence:\", ' '.join(original_sentence))\n",
    "                print(\"Predicted Next Word:\", predicted_word)\n",
    "                print(\"-\" * 111)\n",
    "                \n",
    "            # just first batch    \n",
    "            break\n",
    "\n",
    "# Example usage:\n",
    "show_predictions(model, test_loader, vocab)"
   ]
  },
  {
   "cell_type": "code",
   "execution_count": 20,
   "id": "cf71a593",
   "metadata": {
    "execution": {
     "iopub.execute_input": "2024-06-05T07:50:01.521172Z",
     "iopub.status.busy": "2024-06-05T07:50:01.520886Z",
     "iopub.status.idle": "2024-06-05T07:50:01.590378Z",
     "shell.execute_reply": "2024-06-05T07:50:01.589381Z"
    },
    "papermill": {
     "duration": 0.081804,
     "end_time": "2024-06-05T07:50:01.592349",
     "exception": false,
     "start_time": "2024-06-05T07:50:01.510545",
     "status": "completed"
    },
    "tags": []
   },
   "outputs": [],
   "source": [
    "torch.save(model, \"model.pth\")"
   ]
  }
 ],
 "metadata": {
  "kaggle": {
   "accelerator": "none",
   "dataSources": [
    {
     "datasetId": 836206,
     "sourceId": 1427869,
     "sourceType": "datasetVersion"
    }
   ],
   "dockerImageVersionId": 30717,
   "isGpuEnabled": false,
   "isInternetEnabled": true,
   "language": "python",
   "sourceType": "notebook"
  },
  "kernelspec": {
   "display_name": "Python 3",
   "language": "python",
   "name": "python3"
  },
  "language_info": {
   "codemirror_mode": {
    "name": "ipython",
    "version": 3
   },
   "file_extension": ".py",
   "mimetype": "text/x-python",
   "name": "python",
   "nbconvert_exporter": "python",
   "pygments_lexer": "ipython3",
   "version": "3.10.13"
  },
  "papermill": {
   "default_parameters": {},
   "duration": 2633.274494,
   "end_time": "2024-06-05T07:50:03.531017",
   "environment_variables": {},
   "exception": null,
   "input_path": "__notebook__.ipynb",
   "output_path": "__notebook__.ipynb",
   "parameters": {},
   "start_time": "2024-06-05T07:06:10.256523",
   "version": "2.5.0"
  }
 },
 "nbformat": 4,
 "nbformat_minor": 5
}
