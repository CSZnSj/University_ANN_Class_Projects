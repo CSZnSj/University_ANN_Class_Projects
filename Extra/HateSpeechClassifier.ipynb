{
 "cells": [
  {
   "cell_type": "code",
   "execution_count": 1,
   "id": "dac21a97",
   "metadata": {
    "_cell_guid": "b1076dfc-b9ad-4769-8c92-a6c4dae69d19",
    "_uuid": "8f2839f25d086af736a60e9eeb907d3b93b6e0e5",
    "execution": {
     "iopub.execute_input": "2024-05-24T11:25:23.561008Z",
     "iopub.status.busy": "2024-05-24T11:25:23.560075Z",
     "iopub.status.idle": "2024-05-24T11:25:26.444079Z",
     "shell.execute_reply": "2024-05-24T11:25:26.442786Z"
    },
    "papermill": {
     "duration": 2.907573,
     "end_time": "2024-05-24T11:25:26.446845",
     "exception": false,
     "start_time": "2024-05-24T11:25:23.539272",
     "status": "completed"
    },
    "tags": []
   },
   "outputs": [],
   "source": [
    "import numpy as np\n",
    "import pandas as pd\n",
    "import matplotlib.pyplot as plt\n",
    "\n",
    "from sklearn.model_selection import train_test_split\n",
    "\n",
    "from nltk.tokenize import TweetTokenizer\n",
    "from collections import Counter\n",
    "\n",
    "from sklearn.metrics import accuracy_score, classification_report"
   ]
  },
  {
   "cell_type": "code",
   "execution_count": 2,
   "id": "34100ac9",
   "metadata": {
    "execution": {
     "iopub.execute_input": "2024-05-24T11:25:26.480716Z",
     "iopub.status.busy": "2024-05-24T11:25:26.480146Z",
     "iopub.status.idle": "2024-05-24T11:25:30.301083Z",
     "shell.execute_reply": "2024-05-24T11:25:30.299875Z"
    },
    "papermill": {
     "duration": 3.840811,
     "end_time": "2024-05-24T11:25:30.303786",
     "exception": false,
     "start_time": "2024-05-24T11:25:26.462975",
     "status": "completed"
    },
    "tags": []
   },
   "outputs": [
    {
     "data": {
      "text/plain": [
       "<torch._C.Generator at 0x7af338f16f10>"
      ]
     },
     "execution_count": 2,
     "metadata": {},
     "output_type": "execute_result"
    }
   ],
   "source": [
    "import torch\n",
    "from torch import nn\n",
    "from torch.utils.data import Dataset, DataLoader\n",
    "\n",
    "from tqdm import tqdm\n",
    "\n",
    "\n",
    "torch.manual_seed(42)"
   ]
  },
  {
   "cell_type": "markdown",
   "id": "782de630",
   "metadata": {
    "papermill": {
     "duration": 0.022965,
     "end_time": "2024-05-24T11:25:30.351665",
     "exception": false,
     "start_time": "2024-05-24T11:25:30.328700",
     "status": "completed"
    },
    "tags": []
   },
   "source": [
    "# Data Preprocessing and Augmentation"
   ]
  },
  {
   "cell_type": "markdown",
   "id": "fa29e104",
   "metadata": {
    "papermill": {
     "duration": 0.017114,
     "end_time": "2024-05-24T11:25:30.386483",
     "exception": false,
     "start_time": "2024-05-24T11:25:30.369369",
     "status": "completed"
    },
    "tags": []
   },
   "source": [
    "## data1"
   ]
  },
  {
   "cell_type": "code",
   "execution_count": 3,
   "id": "19296234",
   "metadata": {
    "execution": {
     "iopub.execute_input": "2024-05-24T11:25:30.426866Z",
     "iopub.status.busy": "2024-05-24T11:25:30.426248Z",
     "iopub.status.idle": "2024-05-24T11:25:34.699498Z",
     "shell.execute_reply": "2024-05-24T11:25:34.698328Z"
    },
    "papermill": {
     "duration": 4.297982,
     "end_time": "2024-05-24T11:25:34.702072",
     "exception": false,
     "start_time": "2024-05-24T11:25:30.404090",
     "status": "completed"
    },
    "tags": []
   },
   "outputs": [
    {
     "data": {
      "text/html": [
       "<div>\n",
       "<style scoped>\n",
       "    .dataframe tbody tr th:only-of-type {\n",
       "        vertical-align: middle;\n",
       "    }\n",
       "\n",
       "    .dataframe tbody tr th {\n",
       "        vertical-align: top;\n",
       "    }\n",
       "\n",
       "    .dataframe thead th {\n",
       "        text-align: right;\n",
       "    }\n",
       "</style>\n",
       "<table border=\"1\" class=\"dataframe\">\n",
       "  <thead>\n",
       "    <tr style=\"text-align: right;\">\n",
       "      <th></th>\n",
       "      <th>Content</th>\n",
       "      <th>Label</th>\n",
       "      <th>Content_int</th>\n",
       "    </tr>\n",
       "  </thead>\n",
       "  <tbody>\n",
       "    <tr>\n",
       "      <th>0</th>\n",
       "      <td>denial of normal the con be asked to comment o...</td>\n",
       "      <td>1</td>\n",
       "      <td>[146715, 0, 1, 2, 3, 4, 5, 6, 7, 8, 9, 10, 11,...</td>\n",
       "    </tr>\n",
       "    <tr>\n",
       "      <th>1</th>\n",
       "      <td>just by being able to tweet this insufferable ...</td>\n",
       "      <td>1</td>\n",
       "      <td>[146715, 14, 15, 16, 17, 7, 18, 19, 20, 21, 22...</td>\n",
       "    </tr>\n",
       "    <tr>\n",
       "      <th>2</th>\n",
       "      <td>that is retarded you too cute to be single tha...</td>\n",
       "      <td>1</td>\n",
       "      <td>[146715, 28, 29, 30, 26, 31, 32, 7, 5, 33, 28,...</td>\n",
       "    </tr>\n",
       "    <tr>\n",
       "      <th>3</th>\n",
       "      <td>thought of a real badass mongol style declarat...</td>\n",
       "      <td>1</td>\n",
       "      <td>[146715, 35, 1, 24, 36, 37, 38, 39, 40, 1, 41,...</td>\n",
       "    </tr>\n",
       "    <tr>\n",
       "      <th>4</th>\n",
       "      <td>afro american basho</td>\n",
       "      <td>1</td>\n",
       "      <td>[146715, 46, 47, 48, 146714]</td>\n",
       "    </tr>\n",
       "  </tbody>\n",
       "</table>\n",
       "</div>"
      ],
      "text/plain": [
       "                                             Content Label  \\\n",
       "0  denial of normal the con be asked to comment o...     1   \n",
       "1  just by being able to tweet this insufferable ...     1   \n",
       "2  that is retarded you too cute to be single tha...     1   \n",
       "3  thought of a real badass mongol style declarat...     1   \n",
       "4                                afro american basho     1   \n",
       "\n",
       "                                         Content_int  \n",
       "0  [146715, 0, 1, 2, 3, 4, 5, 6, 7, 8, 9, 10, 11,...  \n",
       "1  [146715, 14, 15, 16, 17, 7, 18, 19, 20, 21, 22...  \n",
       "2  [146715, 28, 29, 30, 26, 31, 32, 7, 5, 33, 28,...  \n",
       "3  [146715, 35, 1, 24, 36, 37, 38, 39, 40, 1, 41,...  \n",
       "4                       [146715, 46, 47, 48, 146714]  "
      ]
     },
     "execution_count": 3,
     "metadata": {},
     "output_type": "execute_result"
    }
   ],
   "source": [
    "data1 = pd.read_csv(\"/kaggle/input/hate-speech-detection-curated-dataset/HateSpeechDataset.csv\")\n",
    "data1.head()"
   ]
  },
  {
   "cell_type": "code",
   "execution_count": 4,
   "id": "ce78d043",
   "metadata": {
    "execution": {
     "iopub.execute_input": "2024-05-24T11:25:34.737444Z",
     "iopub.status.busy": "2024-05-24T11:25:34.737068Z",
     "iopub.status.idle": "2024-05-24T11:25:34.799638Z",
     "shell.execute_reply": "2024-05-24T11:25:34.798349Z"
    },
    "papermill": {
     "duration": 0.08302,
     "end_time": "2024-05-24T11:25:34.802005",
     "exception": false,
     "start_time": "2024-05-24T11:25:34.718985",
     "status": "completed"
    },
    "tags": []
   },
   "outputs": [
    {
     "data": {
      "text/plain": [
       "Label\n",
       "0        361594\n",
       "1         79305\n",
       "Label         7\n",
       "Name: count, dtype: int64"
      ]
     },
     "execution_count": 4,
     "metadata": {},
     "output_type": "execute_result"
    }
   ],
   "source": [
    "data1[\"Label\"].value_counts()"
   ]
  },
  {
   "cell_type": "code",
   "execution_count": 5,
   "id": "eae4f9db",
   "metadata": {
    "execution": {
     "iopub.execute_input": "2024-05-24T11:25:34.837565Z",
     "iopub.status.busy": "2024-05-24T11:25:34.836516Z",
     "iopub.status.idle": "2024-05-24T11:25:35.134278Z",
     "shell.execute_reply": "2024-05-24T11:25:35.132586Z"
    },
    "papermill": {
     "duration": 0.320095,
     "end_time": "2024-05-24T11:25:35.138778",
     "exception": false,
     "start_time": "2024-05-24T11:25:34.818683",
     "status": "completed"
    },
    "tags": []
   },
   "outputs": [
    {
     "data": {
      "text/plain": [
       "<Axes: ylabel='count'>"
      ]
     },
     "execution_count": 5,
     "metadata": {},
     "output_type": "execute_result"
    },
    {
     "data": {
      "image/png": "[encoded data removed]",
      "text/plain": [
       "<Figure size 640x480 with 1 Axes>"
      ]
     },
     "metadata": {},
     "output_type": "display_data"
    }
   ],
   "source": [
    "data1[\"Label\"].value_counts().plot(kind=\"pie\", autopct='%1.1f%%')"
   ]
  },
  {
   "cell_type": "code",
   "execution_count": 6,
   "id": "007c530f",
   "metadata": {
    "execution": {
     "iopub.execute_input": "2024-05-24T11:25:35.197337Z",
     "iopub.status.busy": "2024-05-24T11:25:35.196950Z",
     "iopub.status.idle": "2024-05-24T11:25:35.296798Z",
     "shell.execute_reply": "2024-05-24T11:25:35.295721Z"
    },
    "papermill": {
     "duration": 0.121324,
     "end_time": "2024-05-24T11:25:35.299690",
     "exception": false,
     "start_time": "2024-05-24T11:25:35.178366",
     "status": "completed"
    },
    "tags": []
   },
   "outputs": [],
   "source": [
    "data1 = data1[data1[\"Label\"] == \"0\"]"
   ]
  },
  {
   "cell_type": "code",
   "execution_count": 7,
   "id": "9733abbc",
   "metadata": {
    "execution": {
     "iopub.execute_input": "2024-05-24T11:25:35.337870Z",
     "iopub.status.busy": "2024-05-24T11:25:35.337451Z",
     "iopub.status.idle": "2024-05-24T11:25:35.386973Z",
     "shell.execute_reply": "2024-05-24T11:25:35.385787Z"
    },
    "papermill": {
     "duration": 0.072481,
     "end_time": "2024-05-24T11:25:35.389438",
     "exception": false,
     "start_time": "2024-05-24T11:25:35.316957",
     "status": "completed"
    },
    "tags": []
   },
   "outputs": [
    {
     "data": {
      "text/plain": [
       "Label\n",
       "0    361594\n",
       "Name: count, dtype: int64"
      ]
     },
     "execution_count": 7,
     "metadata": {},
     "output_type": "execute_result"
    }
   ],
   "source": [
    "data1[\"Label\"].value_counts()"
   ]
  },
  {
   "cell_type": "code",
   "execution_count": 8,
   "id": "c46250ab",
   "metadata": {
    "execution": {
     "iopub.execute_input": "2024-05-24T11:25:35.427427Z",
     "iopub.status.busy": "2024-05-24T11:25:35.427029Z",
     "iopub.status.idle": "2024-05-24T11:25:35.687201Z",
     "shell.execute_reply": "2024-05-24T11:25:35.685614Z"
    },
    "papermill": {
     "duration": 0.283054,
     "end_time": "2024-05-24T11:25:35.690385",
     "exception": false,
     "start_time": "2024-05-24T11:25:35.407331",
     "status": "completed"
    },
    "tags": []
   },
   "outputs": [],
   "source": [
    "data1 = data1.drop([\"Content_int\"], axis=1)\n",
    "data1 = data1.rename(columns={\"Content\" : \"Text\"})\n",
    "data1[\"Label\"] = data1[\"Label\"].astype(int)\n",
    "data1.drop_duplicates(\"Text\", inplace=True)"
   ]
  },
  {
   "cell_type": "code",
   "execution_count": 9,
   "id": "f15d98ad",
   "metadata": {
    "execution": {
     "iopub.execute_input": "2024-05-24T11:25:35.728060Z",
     "iopub.status.busy": "2024-05-24T11:25:35.727665Z",
     "iopub.status.idle": "2024-05-24T11:25:35.741372Z",
     "shell.execute_reply": "2024-05-24T11:25:35.740004Z"
    },
    "papermill": {
     "duration": 0.035571,
     "end_time": "2024-05-24T11:25:35.743966",
     "exception": false,
     "start_time": "2024-05-24T11:25:35.708395",
     "status": "completed"
    },
    "tags": []
   },
   "outputs": [
    {
     "data": {
      "text/html": [
       "<div>\n",
       "<style scoped>\n",
       "    .dataframe tbody tr th:only-of-type {\n",
       "        vertical-align: middle;\n",
       "    }\n",
       "\n",
       "    .dataframe tbody tr th {\n",
       "        vertical-align: top;\n",
       "    }\n",
       "\n",
       "    .dataframe thead th {\n",
       "        text-align: right;\n",
       "    }\n",
       "</style>\n",
       "<table border=\"1\" class=\"dataframe\">\n",
       "  <thead>\n",
       "    <tr style=\"text-align: right;\">\n",
       "      <th></th>\n",
       "      <th>Text</th>\n",
       "      <th>Label</th>\n",
       "    </tr>\n",
       "  </thead>\n",
       "  <tbody>\n",
       "    <tr>\n",
       "      <th>523</th>\n",
       "      <td>simply copy and paste the following text into ...</td>\n",
       "      <td>0</td>\n",
       "    </tr>\n",
       "    <tr>\n",
       "      <th>524</th>\n",
       "      <td>in order to help increase the booklets downloa...</td>\n",
       "      <td>0</td>\n",
       "    </tr>\n",
       "    <tr>\n",
       "      <th>525</th>\n",
       "      <td>as of the booklet had been downloaded over tim...</td>\n",
       "      <td>0</td>\n",
       "    </tr>\n",
       "    <tr>\n",
       "      <th>527</th>\n",
       "      <td>click on the download my bad green banner link</td>\n",
       "      <td>0</td>\n",
       "    </tr>\n",
       "    <tr>\n",
       "      <th>528</th>\n",
       "      <td>booklet updated on</td>\n",
       "      <td>0</td>\n",
       "    </tr>\n",
       "    <tr>\n",
       "      <th>...</th>\n",
       "      <td>...</td>\n",
       "      <td>...</td>\n",
       "    </tr>\n",
       "    <tr>\n",
       "      <th>440900</th>\n",
       "      <td>honestly that is ridiculous in my opinion</td>\n",
       "      <td>0</td>\n",
       "    </tr>\n",
       "    <tr>\n",
       "      <th>440902</th>\n",
       "      <td>i why do not you debate first before starting ...</td>\n",
       "      <td>0</td>\n",
       "    </tr>\n",
       "    <tr>\n",
       "      <th>440903</th>\n",
       "      <td>removal of i reverted the removal of the above...</td>\n",
       "      <td>0</td>\n",
       "    </tr>\n",
       "    <tr>\n",
       "      <th>440904</th>\n",
       "      <td>i have unblocked you eddie as i discussed on u...</td>\n",
       "      <td>0</td>\n",
       "    </tr>\n",
       "    <tr>\n",
       "      <th>440905</th>\n",
       "      <td>you have the ability to delete that revision a...</td>\n",
       "      <td>0</td>\n",
       "    </tr>\n",
       "  </tbody>\n",
       "</table>\n",
       "<p>341976 rows × 2 columns</p>\n",
       "</div>"
      ],
      "text/plain": [
       "                                                     Text  Label\n",
       "523     simply copy and paste the following text into ...      0\n",
       "524     in order to help increase the booklets downloa...      0\n",
       "525     as of the booklet had been downloaded over tim...      0\n",
       "527        click on the download my bad green banner link      0\n",
       "528                                    booklet updated on      0\n",
       "...                                                   ...    ...\n",
       "440900          honestly that is ridiculous in my opinion      0\n",
       "440902  i why do not you debate first before starting ...      0\n",
       "440903  removal of i reverted the removal of the above...      0\n",
       "440904  i have unblocked you eddie as i discussed on u...      0\n",
       "440905  you have the ability to delete that revision a...      0\n",
       "\n",
       "[341976 rows x 2 columns]"
      ]
     },
     "execution_count": 9,
     "metadata": {},
     "output_type": "execute_result"
    }
   ],
   "source": [
    "data1"
   ]
  },
  {
   "cell_type": "markdown",
   "id": "b18c1af8",
   "metadata": {
    "papermill": {
     "duration": 0.017239,
     "end_time": "2024-05-24T11:25:35.779130",
     "exception": false,
     "start_time": "2024-05-24T11:25:35.761891",
     "status": "completed"
    },
    "tags": []
   },
   "source": [
    "## data2"
   ]
  },
  {
   "cell_type": "code",
   "execution_count": 10,
   "id": "ed1babb7",
   "metadata": {
    "execution": {
     "iopub.execute_input": "2024-05-24T11:25:35.816164Z",
     "iopub.status.busy": "2024-05-24T11:25:35.815770Z",
     "iopub.status.idle": "2024-05-24T11:25:35.853092Z",
     "shell.execute_reply": "2024-05-24T11:25:35.851841Z"
    },
    "papermill": {
     "duration": 0.05915,
     "end_time": "2024-05-24T11:25:35.855897",
     "exception": false,
     "start_time": "2024-05-24T11:25:35.796747",
     "status": "completed"
    },
    "tags": []
   },
   "outputs": [
    {
     "data": {
      "text/html": [
       "<div>\n",
       "<style scoped>\n",
       "    .dataframe tbody tr th:only-of-type {\n",
       "        vertical-align: middle;\n",
       "    }\n",
       "\n",
       "    .dataframe tbody tr th {\n",
       "        vertical-align: top;\n",
       "    }\n",
       "\n",
       "    .dataframe thead th {\n",
       "        text-align: right;\n",
       "    }\n",
       "</style>\n",
       "<table border=\"1\" class=\"dataframe\">\n",
       "  <thead>\n",
       "    <tr style=\"text-align: right;\">\n",
       "      <th></th>\n",
       "      <th>Unnamed: 0</th>\n",
       "      <th>text</th>\n",
       "      <th>label</th>\n",
       "    </tr>\n",
       "  </thead>\n",
       "  <tbody>\n",
       "    <tr>\n",
       "      <th>0</th>\n",
       "      <td>4</td>\n",
       "      <td>â€œEVERYbody calling you Nigger now!â€ https:...</td>\n",
       "      <td>1</td>\n",
       "    </tr>\n",
       "    <tr>\n",
       "      <th>1</th>\n",
       "      <td>6</td>\n",
       "      <td>@WhiteHouse @realDonaldTrump Fuck ice. White s...</td>\n",
       "      <td>1</td>\n",
       "    </tr>\n",
       "    <tr>\n",
       "      <th>2</th>\n",
       "      <td>13</td>\n",
       "      <td>Who dafuqq is this nigga https://t.co/D6YwVyGjNZ</td>\n",
       "      <td>1</td>\n",
       "    </tr>\n",
       "    <tr>\n",
       "      <th>3</th>\n",
       "      <td>14</td>\n",
       "      <td>bf: move your bighead ðŸ˜…ðŸ˜‚  gf: NIGGA WHAT...</td>\n",
       "      <td>1</td>\n",
       "    </tr>\n",
       "    <tr>\n",
       "      <th>4</th>\n",
       "      <td>44</td>\n",
       "      <td>SHOOKY A NIGGA NOW yâ€™all mightâ€™ve did sumn...</td>\n",
       "      <td>1</td>\n",
       "    </tr>\n",
       "  </tbody>\n",
       "</table>\n",
       "</div>"
      ],
      "text/plain": [
       "   Unnamed: 0                                               text  label\n",
       "0           4  â€œEVERYbody calling you Nigger now!â€ https:...      1\n",
       "1           6  @WhiteHouse @realDonaldTrump Fuck ice. White s...      1\n",
       "2          13   Who dafuqq is this nigga https://t.co/D6YwVyGjNZ      1\n",
       "3          14  bf: move your bighead ðŸ˜…ðŸ˜‚  gf: NIGGA WHAT...      1\n",
       "4          44  SHOOKY A NIGGA NOW yâ€™all mightâ€™ve did sumn...      1"
      ]
     },
     "execution_count": 10,
     "metadata": {},
     "output_type": "execute_result"
    }
   ],
   "source": [
    "data2 = pd.read_csv(\"/kaggle/input/hatetweetdetection/racism_data .csv\")\n",
    "data2.head()"
   ]
  },
  {
   "cell_type": "code",
   "execution_count": 11,
   "id": "9b578a8d",
   "metadata": {
    "execution": {
     "iopub.execute_input": "2024-05-24T11:25:35.893909Z",
     "iopub.status.busy": "2024-05-24T11:25:35.893486Z",
     "iopub.status.idle": "2024-05-24T11:25:35.904839Z",
     "shell.execute_reply": "2024-05-24T11:25:35.903568Z"
    },
    "papermill": {
     "duration": 0.033023,
     "end_time": "2024-05-24T11:25:35.907343",
     "exception": false,
     "start_time": "2024-05-24T11:25:35.874320",
     "status": "completed"
    },
    "tags": []
   },
   "outputs": [
    {
     "data": {
      "text/plain": [
       "label\n",
       "1    5727\n",
       "Name: count, dtype: int64"
      ]
     },
     "execution_count": 11,
     "metadata": {},
     "output_type": "execute_result"
    }
   ],
   "source": [
    "data2[\"label\"].value_counts()"
   ]
  },
  {
   "cell_type": "code",
   "execution_count": 12,
   "id": "a0ab5aa9",
   "metadata": {
    "execution": {
     "iopub.execute_input": "2024-05-24T11:25:35.945351Z",
     "iopub.status.busy": "2024-05-24T11:25:35.944955Z",
     "iopub.status.idle": "2024-05-24T11:25:35.955959Z",
     "shell.execute_reply": "2024-05-24T11:25:35.954474Z"
    },
    "papermill": {
     "duration": 0.033085,
     "end_time": "2024-05-24T11:25:35.958499",
     "exception": false,
     "start_time": "2024-05-24T11:25:35.925414",
     "status": "completed"
    },
    "tags": []
   },
   "outputs": [],
   "source": [
    "data2= data2.drop(\"Unnamed: 0\", axis=1)\n",
    "data2 = data2.rename(columns={\"text\":\"Text\", \"label\":\"Label\"})\n",
    "data2[\"Label\"] = data2[\"Label\"].astype(int)\n",
    "data2.drop_duplicates(\"Text\", inplace=True)"
   ]
  },
  {
   "cell_type": "code",
   "execution_count": 13,
   "id": "3dc9fa45",
   "metadata": {
    "execution": {
     "iopub.execute_input": "2024-05-24T11:25:35.998593Z",
     "iopub.status.busy": "2024-05-24T11:25:35.997876Z",
     "iopub.status.idle": "2024-05-24T11:25:36.010402Z",
     "shell.execute_reply": "2024-05-24T11:25:36.009153Z"
    },
    "papermill": {
     "duration": 0.036365,
     "end_time": "2024-05-24T11:25:36.012864",
     "exception": false,
     "start_time": "2024-05-24T11:25:35.976499",
     "status": "completed"
    },
    "tags": []
   },
   "outputs": [
    {
     "data": {
      "text/html": [
       "<div>\n",
       "<style scoped>\n",
       "    .dataframe tbody tr th:only-of-type {\n",
       "        vertical-align: middle;\n",
       "    }\n",
       "\n",
       "    .dataframe tbody tr th {\n",
       "        vertical-align: top;\n",
       "    }\n",
       "\n",
       "    .dataframe thead th {\n",
       "        text-align: right;\n",
       "    }\n",
       "</style>\n",
       "<table border=\"1\" class=\"dataframe\">\n",
       "  <thead>\n",
       "    <tr style=\"text-align: right;\">\n",
       "      <th></th>\n",
       "      <th>Text</th>\n",
       "      <th>Label</th>\n",
       "    </tr>\n",
       "  </thead>\n",
       "  <tbody>\n",
       "    <tr>\n",
       "      <th>0</th>\n",
       "      <td>â€œEVERYbody calling you Nigger now!â€ https:...</td>\n",
       "      <td>1</td>\n",
       "    </tr>\n",
       "    <tr>\n",
       "      <th>1</th>\n",
       "      <td>@WhiteHouse @realDonaldTrump Fuck ice. White s...</td>\n",
       "      <td>1</td>\n",
       "    </tr>\n",
       "    <tr>\n",
       "      <th>2</th>\n",
       "      <td>Who dafuqq is this nigga https://t.co/D6YwVyGjNZ</td>\n",
       "      <td>1</td>\n",
       "    </tr>\n",
       "    <tr>\n",
       "      <th>3</th>\n",
       "      <td>bf: move your bighead ðŸ˜…ðŸ˜‚  gf: NIGGA WHAT...</td>\n",
       "      <td>1</td>\n",
       "    </tr>\n",
       "    <tr>\n",
       "      <th>4</th>\n",
       "      <td>SHOOKY A NIGGA NOW yâ€™all mightâ€™ve did sumn...</td>\n",
       "      <td>1</td>\n",
       "    </tr>\n",
       "    <tr>\n",
       "      <th>...</th>\n",
       "      <td>...</td>\n",
       "      <td>...</td>\n",
       "    </tr>\n",
       "    <tr>\n",
       "      <th>5722</th>\n",
       "      <td>@edfloo Really nigga? https://t.co/leeh3Q7yCN</td>\n",
       "      <td>1</td>\n",
       "    </tr>\n",
       "    <tr>\n",
       "      <th>5723</th>\n",
       "      <td>ðŸ¥µðŸ¥µ tongue out &amp;amp; fuck that nigga in t...</td>\n",
       "      <td>1</td>\n",
       "    </tr>\n",
       "    <tr>\n",
       "      <th>5724</th>\n",
       "      <td>A nigga get hurt like this make me wanna stop ...</td>\n",
       "      <td>1</td>\n",
       "    </tr>\n",
       "    <tr>\n",
       "      <th>5725</th>\n",
       "      <td>@ilovetreguapo get it together nigga https://t...</td>\n",
       "      <td>1</td>\n",
       "    </tr>\n",
       "    <tr>\n",
       "      <th>5726</th>\n",
       "      <td>@tnnr_prkr @charliekirk11 What a rube you are....</td>\n",
       "      <td>1</td>\n",
       "    </tr>\n",
       "  </tbody>\n",
       "</table>\n",
       "<p>5727 rows × 2 columns</p>\n",
       "</div>"
      ],
      "text/plain": [
       "                                                   Text  Label\n",
       "0     â€œEVERYbody calling you Nigger now!â€ https:...      1\n",
       "1     @WhiteHouse @realDonaldTrump Fuck ice. White s...      1\n",
       "2      Who dafuqq is this nigga https://t.co/D6YwVyGjNZ      1\n",
       "3     bf: move your bighead ðŸ˜…ðŸ˜‚  gf: NIGGA WHAT...      1\n",
       "4     SHOOKY A NIGGA NOW yâ€™all mightâ€™ve did sumn...      1\n",
       "...                                                 ...    ...\n",
       "5722      @edfloo Really nigga? https://t.co/leeh3Q7yCN      1\n",
       "5723  ðŸ¥µðŸ¥µ tongue out &amp; fuck that nigga in t...      1\n",
       "5724  A nigga get hurt like this make me wanna stop ...      1\n",
       "5725  @ilovetreguapo get it together nigga https://t...      1\n",
       "5726  @tnnr_prkr @charliekirk11 What a rube you are....      1\n",
       "\n",
       "[5727 rows x 2 columns]"
      ]
     },
     "execution_count": 13,
     "metadata": {},
     "output_type": "execute_result"
    }
   ],
   "source": [
    "data2"
   ]
  },
  {
   "cell_type": "markdown",
   "id": "4f4b8f5e",
   "metadata": {
    "papermill": {
     "duration": 0.017924,
     "end_time": "2024-05-24T11:25:36.048909",
     "exception": false,
     "start_time": "2024-05-24T11:25:36.030985",
     "status": "completed"
    },
    "tags": []
   },
   "source": [
    "## data3"
   ]
  },
  {
   "cell_type": "code",
   "execution_count": 14,
   "id": "60c5904b",
   "metadata": {
    "execution": {
     "iopub.execute_input": "2024-05-24T11:25:36.086845Z",
     "iopub.status.busy": "2024-05-24T11:25:36.086411Z",
     "iopub.status.idle": "2024-05-24T11:25:36.120836Z",
     "shell.execute_reply": "2024-05-24T11:25:36.119712Z"
    },
    "papermill": {
     "duration": 0.056494,
     "end_time": "2024-05-24T11:25:36.123312",
     "exception": false,
     "start_time": "2024-05-24T11:25:36.066818",
     "status": "completed"
    },
    "tags": []
   },
   "outputs": [
    {
     "data": {
      "text/html": [
       "<div>\n",
       "<style scoped>\n",
       "    .dataframe tbody tr th:only-of-type {\n",
       "        vertical-align: middle;\n",
       "    }\n",
       "\n",
       "    .dataframe tbody tr th {\n",
       "        vertical-align: top;\n",
       "    }\n",
       "\n",
       "    .dataframe thead th {\n",
       "        text-align: right;\n",
       "    }\n",
       "</style>\n",
       "<table border=\"1\" class=\"dataframe\">\n",
       "  <thead>\n",
       "    <tr style=\"text-align: right;\">\n",
       "      <th></th>\n",
       "      <th>Unnamed: 0</th>\n",
       "      <th>Text</th>\n",
       "      <th>xenophobia</th>\n",
       "    </tr>\n",
       "  </thead>\n",
       "  <tbody>\n",
       "    <tr>\n",
       "      <th>0</th>\n",
       "      <td>3</td>\n",
       "      <td>A lot of foreigners seem to be catching COVID1...</td>\n",
       "      <td>True</td>\n",
       "    </tr>\n",
       "    <tr>\n",
       "      <th>1</th>\n",
       "      <td>5</td>\n",
       "      <td>All things considered, if we're going to get i...</td>\n",
       "      <td>True</td>\n",
       "    </tr>\n",
       "    <tr>\n",
       "      <th>2</th>\n",
       "      <td>9</td>\n",
       "      <td>These are not migrants. These are invaders. Th...</td>\n",
       "      <td>True</td>\n",
       "    </tr>\n",
       "    <tr>\n",
       "      <th>3</th>\n",
       "      <td>10</td>\n",
       "      <td>In typical Italian fashion, Italy immediately ...</td>\n",
       "      <td>True</td>\n",
       "    </tr>\n",
       "    <tr>\n",
       "      <th>4</th>\n",
       "      <td>11</td>\n",
       "      <td>âI canât think of anything worse than snog...</td>\n",
       "      <td>True</td>\n",
       "    </tr>\n",
       "    <tr>\n",
       "      <th>...</th>\n",
       "      <td>...</td>\n",
       "      <td>...</td>\n",
       "      <td>...</td>\n",
       "    </tr>\n",
       "    <tr>\n",
       "      <th>3419</th>\n",
       "      <td>5678</td>\n",
       "      <td>Country needs moderate on legal immigration bu...</td>\n",
       "      <td>True</td>\n",
       "    </tr>\n",
       "    <tr>\n",
       "      <th>3420</th>\n",
       "      <td>5679</td>\n",
       "      <td>What you need is moderate on legal immigration...</td>\n",
       "      <td>True</td>\n",
       "    </tr>\n",
       "    <tr>\n",
       "      <th>3421</th>\n",
       "      <td>5681</td>\n",
       "      <td>Concerned about the heath of Floridians, the G...</td>\n",
       "      <td>True</td>\n",
       "    </tr>\n",
       "    <tr>\n",
       "      <th>3422</th>\n",
       "      <td>5684</td>\n",
       "      <td>We buried our first  death last week. \\nDirect...</td>\n",
       "      <td>True</td>\n",
       "    </tr>\n",
       "    <tr>\n",
       "      <th>3423</th>\n",
       "      <td>5686</td>\n",
       "      <td>other companies are providing customers with t...</td>\n",
       "      <td>True</td>\n",
       "    </tr>\n",
       "  </tbody>\n",
       "</table>\n",
       "<p>3424 rows × 3 columns</p>\n",
       "</div>"
      ],
      "text/plain": [
       "      Unnamed: 0                                               Text  \\\n",
       "0              3  A lot of foreigners seem to be catching COVID1...   \n",
       "1              5  All things considered, if we're going to get i...   \n",
       "2              9  These are not migrants. These are invaders. Th...   \n",
       "3             10  In typical Italian fashion, Italy immediately ...   \n",
       "4             11  âI canât think of anything worse than snog...   \n",
       "...          ...                                                ...   \n",
       "3419        5678  Country needs moderate on legal immigration bu...   \n",
       "3420        5679  What you need is moderate on legal immigration...   \n",
       "3421        5681  Concerned about the heath of Floridians, the G...   \n",
       "3422        5684  We buried our first  death last week. \\nDirect...   \n",
       "3423        5686  other companies are providing customers with t...   \n",
       "\n",
       "      xenophobia  \n",
       "0           True  \n",
       "1           True  \n",
       "2           True  \n",
       "3           True  \n",
       "4           True  \n",
       "...          ...  \n",
       "3419        True  \n",
       "3420        True  \n",
       "3421        True  \n",
       "3422        True  \n",
       "3423        True  \n",
       "\n",
       "[3424 rows x 3 columns]"
      ]
     },
     "execution_count": 14,
     "metadata": {},
     "output_type": "execute_result"
    }
   ],
   "source": [
    "data3 = pd.read_csv(\"/kaggle/input/hatetweetdetection/xeno.csv\")\n",
    "data3"
   ]
  },
  {
   "cell_type": "code",
   "execution_count": 15,
   "id": "c65081ff",
   "metadata": {
    "execution": {
     "iopub.execute_input": "2024-05-24T11:25:36.162452Z",
     "iopub.status.busy": "2024-05-24T11:25:36.162047Z",
     "iopub.status.idle": "2024-05-24T11:25:36.172070Z",
     "shell.execute_reply": "2024-05-24T11:25:36.170909Z"
    },
    "papermill": {
     "duration": 0.032398,
     "end_time": "2024-05-24T11:25:36.174692",
     "exception": false,
     "start_time": "2024-05-24T11:25:36.142294",
     "status": "completed"
    },
    "tags": []
   },
   "outputs": [
    {
     "data": {
      "text/plain": [
       "xenophobia\n",
       "True    3424\n",
       "Name: count, dtype: int64"
      ]
     },
     "execution_count": 15,
     "metadata": {},
     "output_type": "execute_result"
    }
   ],
   "source": [
    "data3[\"xenophobia\"].value_counts()"
   ]
  },
  {
   "cell_type": "code",
   "execution_count": 16,
   "id": "8acddbb9",
   "metadata": {
    "execution": {
     "iopub.execute_input": "2024-05-24T11:25:36.213906Z",
     "iopub.status.busy": "2024-05-24T11:25:36.213464Z",
     "iopub.status.idle": "2024-05-24T11:25:36.228469Z",
     "shell.execute_reply": "2024-05-24T11:25:36.227276Z"
    },
    "papermill": {
     "duration": 0.037599,
     "end_time": "2024-05-24T11:25:36.231087",
     "exception": false,
     "start_time": "2024-05-24T11:25:36.193488",
     "status": "completed"
    },
    "tags": []
   },
   "outputs": [],
   "source": [
    "data3 = data3.drop(\"Unnamed: 0\", axis=1)\n",
    "data3[\"xenophobia\"] = data3[\"xenophobia\"].apply(lambda x: 2 if True else 0)\n",
    "data3 = data3.rename(columns={\"xenophobia\":\"Label\"})\n",
    "data3[\"Label\"] = data3[\"Label\"].astype(int)\n",
    "data3.drop_duplicates(\"Text\", inplace=True)"
   ]
  },
  {
   "cell_type": "code",
   "execution_count": 17,
   "id": "027c8645",
   "metadata": {
    "execution": {
     "iopub.execute_input": "2024-05-24T11:25:36.271184Z",
     "iopub.status.busy": "2024-05-24T11:25:36.270793Z",
     "iopub.status.idle": "2024-05-24T11:25:36.283241Z",
     "shell.execute_reply": "2024-05-24T11:25:36.281825Z"
    },
    "papermill": {
     "duration": 0.035673,
     "end_time": "2024-05-24T11:25:36.286274",
     "exception": false,
     "start_time": "2024-05-24T11:25:36.250601",
     "status": "completed"
    },
    "tags": []
   },
   "outputs": [
    {
     "data": {
      "text/html": [
       "<div>\n",
       "<style scoped>\n",
       "    .dataframe tbody tr th:only-of-type {\n",
       "        vertical-align: middle;\n",
       "    }\n",
       "\n",
       "    .dataframe tbody tr th {\n",
       "        vertical-align: top;\n",
       "    }\n",
       "\n",
       "    .dataframe thead th {\n",
       "        text-align: right;\n",
       "    }\n",
       "</style>\n",
       "<table border=\"1\" class=\"dataframe\">\n",
       "  <thead>\n",
       "    <tr style=\"text-align: right;\">\n",
       "      <th></th>\n",
       "      <th>Text</th>\n",
       "      <th>Label</th>\n",
       "    </tr>\n",
       "  </thead>\n",
       "  <tbody>\n",
       "    <tr>\n",
       "      <th>0</th>\n",
       "      <td>A lot of foreigners seem to be catching COVID1...</td>\n",
       "      <td>2</td>\n",
       "    </tr>\n",
       "    <tr>\n",
       "      <th>1</th>\n",
       "      <td>All things considered, if we're going to get i...</td>\n",
       "      <td>2</td>\n",
       "    </tr>\n",
       "    <tr>\n",
       "      <th>2</th>\n",
       "      <td>These are not migrants. These are invaders. Th...</td>\n",
       "      <td>2</td>\n",
       "    </tr>\n",
       "    <tr>\n",
       "      <th>3</th>\n",
       "      <td>In typical Italian fashion, Italy immediately ...</td>\n",
       "      <td>2</td>\n",
       "    </tr>\n",
       "    <tr>\n",
       "      <th>4</th>\n",
       "      <td>âI canât think of anything worse than snog...</td>\n",
       "      <td>2</td>\n",
       "    </tr>\n",
       "    <tr>\n",
       "      <th>...</th>\n",
       "      <td>...</td>\n",
       "      <td>...</td>\n",
       "    </tr>\n",
       "    <tr>\n",
       "      <th>3419</th>\n",
       "      <td>Country needs moderate on legal immigration bu...</td>\n",
       "      <td>2</td>\n",
       "    </tr>\n",
       "    <tr>\n",
       "      <th>3420</th>\n",
       "      <td>What you need is moderate on legal immigration...</td>\n",
       "      <td>2</td>\n",
       "    </tr>\n",
       "    <tr>\n",
       "      <th>3421</th>\n",
       "      <td>Concerned about the heath of Floridians, the G...</td>\n",
       "      <td>2</td>\n",
       "    </tr>\n",
       "    <tr>\n",
       "      <th>3422</th>\n",
       "      <td>We buried our first  death last week. \\nDirect...</td>\n",
       "      <td>2</td>\n",
       "    </tr>\n",
       "    <tr>\n",
       "      <th>3423</th>\n",
       "      <td>other companies are providing customers with t...</td>\n",
       "      <td>2</td>\n",
       "    </tr>\n",
       "  </tbody>\n",
       "</table>\n",
       "<p>3358 rows × 2 columns</p>\n",
       "</div>"
      ],
      "text/plain": [
       "                                                   Text  Label\n",
       "0     A lot of foreigners seem to be catching COVID1...      2\n",
       "1     All things considered, if we're going to get i...      2\n",
       "2     These are not migrants. These are invaders. Th...      2\n",
       "3     In typical Italian fashion, Italy immediately ...      2\n",
       "4     âI canât think of anything worse than snog...      2\n",
       "...                                                 ...    ...\n",
       "3419  Country needs moderate on legal immigration bu...      2\n",
       "3420  What you need is moderate on legal immigration...      2\n",
       "3421  Concerned about the heath of Floridians, the G...      2\n",
       "3422  We buried our first  death last week. \\nDirect...      2\n",
       "3423  other companies are providing customers with t...      2\n",
       "\n",
       "[3358 rows x 2 columns]"
      ]
     },
     "execution_count": 17,
     "metadata": {},
     "output_type": "execute_result"
    }
   ],
   "source": [
    "data3"
   ]
  },
  {
   "cell_type": "markdown",
   "id": "42f05719",
   "metadata": {
    "papermill": {
     "duration": 0.01918,
     "end_time": "2024-05-24T11:25:36.363696",
     "exception": false,
     "start_time": "2024-05-24T11:25:36.344516",
     "status": "completed"
    },
    "tags": []
   },
   "source": [
    "## data"
   ]
  },
  {
   "cell_type": "code",
   "execution_count": 18,
   "id": "19581c53",
   "metadata": {
    "execution": {
     "iopub.execute_input": "2024-05-24T11:25:36.405193Z",
     "iopub.status.busy": "2024-05-24T11:25:36.404784Z",
     "iopub.status.idle": "2024-05-24T11:25:36.410650Z",
     "shell.execute_reply": "2024-05-24T11:25:36.409346Z"
    },
    "papermill": {
     "duration": 0.02986,
     "end_time": "2024-05-24T11:25:36.413604",
     "exception": false,
     "start_time": "2024-05-24T11:25:36.383744",
     "status": "completed"
    },
    "tags": []
   },
   "outputs": [],
   "source": [
    "def shuffling(df):\n",
    "    return df.sample(frac=1, random_state=42).reset_index(drop=True)"
   ]
  },
  {
   "cell_type": "code",
   "execution_count": 19,
   "id": "6ed84554",
   "metadata": {
    "execution": {
     "iopub.execute_input": "2024-05-24T11:25:36.453833Z",
     "iopub.status.busy": "2024-05-24T11:25:36.453391Z",
     "iopub.status.idle": "2024-05-24T11:25:36.459050Z",
     "shell.execute_reply": "2024-05-24T11:25:36.457875Z"
    },
    "papermill": {
     "duration": 0.028572,
     "end_time": "2024-05-24T11:25:36.461579",
     "exception": false,
     "start_time": "2024-05-24T11:25:36.433007",
     "status": "completed"
    },
    "tags": []
   },
   "outputs": [],
   "source": [
    "def sampling(df, n=10000, replace=True):\n",
    "    return df.sample(n, replace=replace, random_state=42)"
   ]
  },
  {
   "cell_type": "code",
   "execution_count": 20,
   "id": "4278bbe1",
   "metadata": {
    "execution": {
     "iopub.execute_input": "2024-05-24T11:25:36.502756Z",
     "iopub.status.busy": "2024-05-24T11:25:36.502307Z",
     "iopub.status.idle": "2024-05-24T11:25:36.508912Z",
     "shell.execute_reply": "2024-05-24T11:25:36.507645Z"
    },
    "papermill": {
     "duration": 0.030611,
     "end_time": "2024-05-24T11:25:36.511446",
     "exception": false,
     "start_time": "2024-05-24T11:25:36.480835",
     "status": "completed"
    },
    "tags": []
   },
   "outputs": [],
   "source": [
    "def get_samples(df, idx=[10001, 11001, 12001]):\n",
    "    df = shuffling(df)\n",
    "    return df[:idx[0]], df[idx[0]:idx[1]], df[idx[1]:idx[2]]"
   ]
  },
  {
   "cell_type": "markdown",
   "id": "c8ae6e83",
   "metadata": {
    "papermill": {
     "duration": 0.019214,
     "end_time": "2024-05-24T11:25:36.550331",
     "exception": false,
     "start_time": "2024-05-24T11:25:36.531117",
     "status": "completed"
    },
    "tags": []
   },
   "source": [
    "'''\n",
    "Purpose: This function \"get_samples\" is used to split a dataframe df into three parts:\n",
    "training, evaluation, and test sets.\n",
    "This function is particularly useful when the original dataframe contains a large number of samples,\n",
    "and we need to select a specific number of samples for each set. \n",
    "It shuffles the dataframe to ensure randomness and then splits it into three parts based on the provided indices.\n",
    "These indices determine the boundaries for the training, evaluation, and test sets.\n",
    "'''"
   ]
  },
  {
   "cell_type": "code",
   "execution_count": 21,
   "id": "becc1ca7",
   "metadata": {
    "execution": {
     "iopub.execute_input": "2024-05-24T11:25:36.590966Z",
     "iopub.status.busy": "2024-05-24T11:25:36.590550Z",
     "iopub.status.idle": "2024-05-24T11:25:36.596921Z",
     "shell.execute_reply": "2024-05-24T11:25:36.595652Z"
    },
    "papermill": {
     "duration": 0.029697,
     "end_time": "2024-05-24T11:25:36.599419",
     "exception": false,
     "start_time": "2024-05-24T11:25:36.569722",
     "status": "completed"
    },
    "tags": []
   },
   "outputs": [],
   "source": [
    "def split_dataframe(df):\n",
    "    train_df, test_df = train_test_split(df, train_size=0.9, stratify=df[\"Label\"], random_state=42)\n",
    "    train_df, eval_df = train_test_split(train_df, train_size=0.9, stratify=train_df[\"Label\"], random_state=42)\n",
    "    return train_df, eval_df, test_df"
   ]
  },
  {
   "cell_type": "markdown",
   "id": "72c81fb8",
   "metadata": {
    "papermill": {
     "duration": 0.020103,
     "end_time": "2024-05-24T11:25:36.639034",
     "exception": false,
     "start_time": "2024-05-24T11:25:36.618931",
     "status": "completed"
    },
    "tags": []
   },
   "source": [
    "\n",
    "'''\n",
    "Purpose: This function \"split_dataframe\" is employed to\n",
    "split a dataframe df into training, evaluation, and test sets using stratified sampling. \n",
    "This function is suitable when the original dataframe contains a moderate or small number of samples, and we want to ensure that\n",
    "each set maintains the same class distribution as the original dataset. \n",
    "It splits the dataframe into training and test sets, \n",
    "then further splits the training set into training and evaluation sets. \n",
    "This ensures that all three sets have a similar distribution of labels, facilitating unbiased model evaluation and comparison.\n",
    "'''"
   ]
  },
  {
   "cell_type": "code",
   "execution_count": 22,
   "id": "48fc5a9d",
   "metadata": {
    "execution": {
     "iopub.execute_input": "2024-05-24T11:25:36.679783Z",
     "iopub.status.busy": "2024-05-24T11:25:36.679367Z",
     "iopub.status.idle": "2024-05-24T11:25:36.685856Z",
     "shell.execute_reply": "2024-05-24T11:25:36.684406Z"
    },
    "papermill": {
     "duration": 0.030129,
     "end_time": "2024-05-24T11:25:36.688461",
     "exception": false,
     "start_time": "2024-05-24T11:25:36.658332",
     "status": "completed"
    },
    "tags": []
   },
   "outputs": [],
   "source": [
    "def create_train(df1, df2, df3, n=10000):\n",
    "    return concat_dataframes(sampling(df1, n, replace=False), sampling(df2, n, replace=True), sampling(df3, n, replace=True))\n"
   ]
  },
  {
   "cell_type": "markdown",
   "id": "92f43ca1",
   "metadata": {
    "papermill": {
     "duration": 0.019367,
     "end_time": "2024-05-24T11:25:36.727428",
     "exception": false,
     "start_time": "2024-05-24T11:25:36.708061",
     "status": "completed"
    },
    "tags": []
   },
   "source": [
    "'''\n",
    "Purpose: This function \"create_train\" is responsible for creating a balanced training dataset\n",
    "by sampling from three input dataframes (df1, df2, df3) with replacement.\n",
    "Since df1 contains more than n samples, replace=False ensures that each sample is unique.\n",
    "However, df2 and df3 contain fewer than n samples,\n",
    "so replace=True allows for the repetition of samples to ensure balance and an adequate number of samples for training.\n",
    "The resulting training dataframe comprises\n",
    "concatenated and shuffled entries from the three input dataframes, ready for use in model training.\n",
    "'''"
   ]
  },
  {
   "cell_type": "code",
   "execution_count": 23,
   "id": "f8c03953",
   "metadata": {
    "execution": {
     "iopub.execute_input": "2024-05-24T11:25:36.767493Z",
     "iopub.status.busy": "2024-05-24T11:25:36.767084Z",
     "iopub.status.idle": "2024-05-24T11:25:36.772920Z",
     "shell.execute_reply": "2024-05-24T11:25:36.771725Z"
    },
    "papermill": {
     "duration": 0.028515,
     "end_time": "2024-05-24T11:25:36.775317",
     "exception": false,
     "start_time": "2024-05-24T11:25:36.746802",
     "status": "completed"
    },
    "tags": []
   },
   "outputs": [],
   "source": [
    "def concat_dataframes(df1, df2, df3):\n",
    "    df = pd.concat([df1, df2, df3], ignore_index=True)\n",
    "    return shuffling(df)"
   ]
  },
  {
   "cell_type": "code",
   "execution_count": 24,
   "id": "d64be01e",
   "metadata": {
    "execution": {
     "iopub.execute_input": "2024-05-24T11:25:36.814965Z",
     "iopub.status.busy": "2024-05-24T11:25:36.814551Z",
     "iopub.status.idle": "2024-05-24T11:25:36.819916Z",
     "shell.execute_reply": "2024-05-24T11:25:36.818722Z"
    },
    "papermill": {
     "duration": 0.028065,
     "end_time": "2024-05-24T11:25:36.822365",
     "exception": false,
     "start_time": "2024-05-24T11:25:36.794300",
     "status": "completed"
    },
    "tags": []
   },
   "outputs": [],
   "source": [
    "def split_to_X_y(df):\n",
    "    return df[\"Text\"], df[\"Label\"]"
   ]
  },
  {
   "cell_type": "code",
   "execution_count": 25,
   "id": "ef41c840",
   "metadata": {
    "execution": {
     "iopub.execute_input": "2024-05-24T11:25:36.861968Z",
     "iopub.status.busy": "2024-05-24T11:25:36.861550Z",
     "iopub.status.idle": "2024-05-24T11:25:36.940711Z",
     "shell.execute_reply": "2024-05-24T11:25:36.939421Z"
    },
    "papermill": {
     "duration": 0.102185,
     "end_time": "2024-05-24T11:25:36.943589",
     "exception": false,
     "start_time": "2024-05-24T11:25:36.841404",
     "status": "completed"
    },
    "tags": []
   },
   "outputs": [],
   "source": [
    "# Split data1 into training, evaluation, and test sets\n",
    "data1_train, data1_eval, data1_test = get_samples(data1)\n",
    "# Split data2 and data3 into training, evaluation, and test sets\n",
    "data2_train, data2_eval, data2_test = split_dataframe(data2)\n",
    "data3_train, data3_eval, data3_test = split_dataframe(data3)"
   ]
  },
  {
   "cell_type": "code",
   "execution_count": 26,
   "id": "510c7916",
   "metadata": {
    "execution": {
     "iopub.execute_input": "2024-05-24T11:25:36.983395Z",
     "iopub.status.busy": "2024-05-24T11:25:36.982998Z",
     "iopub.status.idle": "2024-05-24T11:25:37.003379Z",
     "shell.execute_reply": "2024-05-24T11:25:37.002306Z"
    },
    "papermill": {
     "duration": 0.04322,
     "end_time": "2024-05-24T11:25:37.006022",
     "exception": false,
     "start_time": "2024-05-24T11:25:36.962802",
     "status": "completed"
    },
    "tags": []
   },
   "outputs": [],
   "source": [
    "# Create combined training\n",
    "train_df = create_train(data1_train, data2_train, data3_train)\n",
    "# Create combined evaluation and test sets\n",
    "eval_df = concat_dataframes(data1_eval, data2_eval , data3_eval)\n",
    "test_df = concat_dataframes(data1_test, data2_test, data3_test)"
   ]
  },
  {
   "cell_type": "code",
   "execution_count": 27,
   "id": "8236ff81",
   "metadata": {
    "execution": {
     "iopub.execute_input": "2024-05-24T11:25:37.045767Z",
     "iopub.status.busy": "2024-05-24T11:25:37.045343Z",
     "iopub.status.idle": "2024-05-24T11:25:37.220514Z",
     "shell.execute_reply": "2024-05-24T11:25:37.218565Z"
    },
    "papermill": {
     "duration": 0.200062,
     "end_time": "2024-05-24T11:25:37.225293",
     "exception": false,
     "start_time": "2024-05-24T11:25:37.025231",
     "status": "completed"
    },
    "tags": []
   },
   "outputs": [
    {
     "data": {
      "text/plain": [
       "<Axes: ylabel='count'>"
      ]
     },
     "execution_count": 27,
     "metadata": {},
     "output_type": "execute_result"
    },
    {
     "data": {
      "image/png": "[encoded data removed]",
      "text/plain": [
       "<Figure size 640x480 with 1 Axes>"
      ]
     },
     "metadata": {},
     "output_type": "display_data"
    }
   ],
   "source": [
    "train_df[\"Label\"].value_counts().plot(kind=\"pie\", autopct='%1.1f%%')"
   ]
  },
  {
   "cell_type": "markdown",
   "id": "62dc0375",
   "metadata": {
    "papermill": {
     "duration": 0.019332,
     "end_time": "2024-05-24T11:25:37.292665",
     "exception": false,
     "start_time": "2024-05-24T11:25:37.273333",
     "status": "completed"
    },
    "tags": []
   },
   "source": [
    "## splitting data"
   ]
  },
  {
   "cell_type": "code",
   "execution_count": 28,
   "id": "89151b8c",
   "metadata": {
    "execution": {
     "iopub.execute_input": "2024-05-24T11:25:37.333636Z",
     "iopub.status.busy": "2024-05-24T11:25:37.333228Z",
     "iopub.status.idle": "2024-05-24T11:25:37.339935Z",
     "shell.execute_reply": "2024-05-24T11:25:37.338614Z"
    },
    "papermill": {
     "duration": 0.030522,
     "end_time": "2024-05-24T11:25:37.342499",
     "exception": false,
     "start_time": "2024-05-24T11:25:37.311977",
     "status": "completed"
    },
    "tags": []
   },
   "outputs": [],
   "source": [
    "# Split combined datasets into features (X) and labels (y)\n",
    "X_train, y_train = split_to_X_y(train_df)\n",
    "X_eval, y_eval = split_to_X_y(eval_df)\n",
    "X_test, y_test = split_to_X_y(test_df)"
   ]
  },
  {
   "cell_type": "code",
   "execution_count": 29,
   "id": "77ab3ab9",
   "metadata": {
    "execution": {
     "iopub.execute_input": "2024-05-24T11:25:37.384057Z",
     "iopub.status.busy": "2024-05-24T11:25:37.383689Z",
     "iopub.status.idle": "2024-05-24T11:25:37.392674Z",
     "shell.execute_reply": "2024-05-24T11:25:37.391428Z"
    },
    "papermill": {
     "duration": 0.03319,
     "end_time": "2024-05-24T11:25:37.395281",
     "exception": false,
     "start_time": "2024-05-24T11:25:37.362091",
     "status": "completed"
    },
    "tags": []
   },
   "outputs": [
    {
     "data": {
      "text/plain": [
       "Label\n",
       "0    10000\n",
       "2    10000\n",
       "1    10000\n",
       "Name: count, dtype: int64"
      ]
     },
     "execution_count": 29,
     "metadata": {},
     "output_type": "execute_result"
    }
   ],
   "source": [
    "y_train.value_counts()"
   ]
  },
  {
   "cell_type": "code",
   "execution_count": 30,
   "id": "cf766cdc",
   "metadata": {
    "execution": {
     "iopub.execute_input": "2024-05-24T11:25:37.437901Z",
     "iopub.status.busy": "2024-05-24T11:25:37.437497Z",
     "iopub.status.idle": "2024-05-24T11:25:37.446170Z",
     "shell.execute_reply": "2024-05-24T11:25:37.444985Z"
    },
    "papermill": {
     "duration": 0.032725,
     "end_time": "2024-05-24T11:25:37.448827",
     "exception": false,
     "start_time": "2024-05-24T11:25:37.416102",
     "status": "completed"
    },
    "tags": []
   },
   "outputs": [
    {
     "data": {
      "text/plain": [
       "Label\n",
       "0    1000\n",
       "1     516\n",
       "2     303\n",
       "Name: count, dtype: int64"
      ]
     },
     "execution_count": 30,
     "metadata": {},
     "output_type": "execute_result"
    }
   ],
   "source": [
    "y_eval.value_counts()"
   ]
  },
  {
   "cell_type": "code",
   "execution_count": 31,
   "id": "9b100b55",
   "metadata": {
    "execution": {
     "iopub.execute_input": "2024-05-24T11:25:37.491110Z",
     "iopub.status.busy": "2024-05-24T11:25:37.490720Z",
     "iopub.status.idle": "2024-05-24T11:25:37.499580Z",
     "shell.execute_reply": "2024-05-24T11:25:37.498506Z"
    },
    "papermill": {
     "duration": 0.033265,
     "end_time": "2024-05-24T11:25:37.502496",
     "exception": false,
     "start_time": "2024-05-24T11:25:37.469231",
     "status": "completed"
    },
    "tags": []
   },
   "outputs": [
    {
     "data": {
      "text/plain": [
       "Label\n",
       "0    1000\n",
       "1     573\n",
       "2     336\n",
       "Name: count, dtype: int64"
      ]
     },
     "execution_count": 31,
     "metadata": {},
     "output_type": "execute_result"
    }
   ],
   "source": [
    "y_test.value_counts()"
   ]
  },
  {
   "cell_type": "markdown",
   "id": "f43d844e",
   "metadata": {
    "papermill": {
     "duration": 0.019825,
     "end_time": "2024-05-24T11:25:37.543089",
     "exception": false,
     "start_time": "2024-05-24T11:25:37.523264",
     "status": "completed"
    },
    "tags": []
   },
   "source": [
    "# Vocabulary"
   ]
  },
  {
   "cell_type": "code",
   "execution_count": 32,
   "id": "08c5ff1c",
   "metadata": {
    "execution": {
     "iopub.execute_input": "2024-05-24T11:25:37.585838Z",
     "iopub.status.busy": "2024-05-24T11:25:37.585404Z",
     "iopub.status.idle": "2024-05-24T11:25:43.530769Z",
     "shell.execute_reply": "2024-05-24T11:25:43.529393Z"
    },
    "papermill": {
     "duration": 5.970954,
     "end_time": "2024-05-24T11:25:43.534050",
     "exception": false,
     "start_time": "2024-05-24T11:25:37.563096",
     "status": "completed"
    },
    "tags": []
   },
   "outputs": [],
   "source": [
    "class Vocabulary:\n",
    "    def __init__(self, freq_threshold, max_size):\n",
    "        self.itos = {0: '<PAD>', 1: '<SOS>', 2: '<EOS>', 3: '<UNK>'}\n",
    "        self.stoi = {k: j for j, k in self.itos.items()}\n",
    "        self.freq_threshold = freq_threshold\n",
    "        self.max_size = max_size\n",
    "        self.tokenizer = TweetTokenizer()\n",
    "\n",
    "    def __len__(self):\n",
    "        return len(self.itos)\n",
    "\n",
    "    def build_vocabulary(self, texts):\n",
    "        frequencies = Counter()\n",
    "        for text in texts:\n",
    "            frequencies.update(self.tokenizer.tokenize(text))\n",
    "\n",
    "        frequencies = {k: v for k, v in frequencies.items() if v > self.freq_threshold}\n",
    "        frequencies = dict(sorted(frequencies.items(), key=lambda x: -x[1])[:self.max_size - 4])\n",
    "\n",
    "        idx = 4\n",
    "        for word in frequencies:\n",
    "            self.stoi[word] = idx\n",
    "            self.itos[idx] = word\n",
    "            idx += 1\n",
    "            \n",
    "    def get_vocabularies(self):\n",
    "        return self.itos\n",
    "\n",
    "    def numericalize(self, text):\n",
    "        tokenized_text = self.tokenizer.tokenize(text)\n",
    "        numericalized_text = [self.stoi.get(token, self.stoi['<UNK>']) for token in tokenized_text]\n",
    "        return numericalized_text\n",
    "    \n",
    "vocab = Vocabulary(freq_threshold=5, max_size=1000)\n",
    "vocab.build_vocabulary(X_train)"
   ]
  },
  {
   "cell_type": "markdown",
   "id": "3be27b45",
   "metadata": {
    "papermill": {
     "duration": 0.019823,
     "end_time": "2024-05-24T11:25:43.574113",
     "exception": false,
     "start_time": "2024-05-24T11:25:43.554290",
     "status": "completed"
    },
    "tags": []
   },
   "source": [
    "# TextDataset"
   ]
  },
  {
   "cell_type": "code",
   "execution_count": 33,
   "id": "fa95ed71",
   "metadata": {
    "execution": {
     "iopub.execute_input": "2024-05-24T11:25:43.617018Z",
     "iopub.status.busy": "2024-05-24T11:25:43.616606Z",
     "iopub.status.idle": "2024-05-24T11:25:43.627597Z",
     "shell.execute_reply": "2024-05-24T11:25:43.626057Z"
    },
    "papermill": {
     "duration": 0.03583,
     "end_time": "2024-05-24T11:25:43.630189",
     "exception": false,
     "start_time": "2024-05-24T11:25:43.594359",
     "status": "completed"
    },
    "tags": []
   },
   "outputs": [],
   "source": [
    "class TextDataset(Dataset):\n",
    "    def __init__(self, texts, labels, vocab, max_length=100):\n",
    "        self.texts = texts\n",
    "        self.labels = labels\n",
    "        self.vocab = vocab\n",
    "        self.max_length = max_length\n",
    "\n",
    "    def __len__(self):\n",
    "        return len(self.texts)\n",
    "\n",
    "    def __getitem__(self, idx):\n",
    "        text = self.texts.iloc[idx]\n",
    "        label = self.labels.iloc[idx]\n",
    "\n",
    "        numericalized_text = self.vocab.numericalize(text)\n",
    "        # Pad sequences to max_length\n",
    "        if len(numericalized_text) < self.max_length:\n",
    "            numericalized_text = numericalized_text + [0] * (self.max_length - len(numericalized_text))\n",
    "        else:\n",
    "            numericalized_text = numericalized_text[:self.max_length]\n",
    "            \n",
    "        return torch.tensor(numericalized_text), torch.tensor(label)\n",
    "    \n",
    "    \n",
    "train_dataset = TextDataset(X_train, y_train, vocab)\n",
    "eval_dataset = TextDataset(X_eval, y_eval, vocab)\n",
    "test_dataset = TextDataset(X_test, y_test, vocab)"
   ]
  },
  {
   "cell_type": "code",
   "execution_count": 34,
   "id": "b2267df8",
   "metadata": {
    "execution": {
     "iopub.execute_input": "2024-05-24T11:25:43.673020Z",
     "iopub.status.busy": "2024-05-24T11:25:43.672614Z",
     "iopub.status.idle": "2024-05-24T11:25:43.679638Z",
     "shell.execute_reply": "2024-05-24T11:25:43.678457Z"
    },
    "papermill": {
     "duration": 0.030866,
     "end_time": "2024-05-24T11:25:43.682056",
     "exception": false,
     "start_time": "2024-05-24T11:25:43.651190",
     "status": "completed"
    },
    "tags": []
   },
   "outputs": [],
   "source": [
    "train_dataloader = DataLoader(train_dataset, batch_size=128, shuffle=True)\n",
    "eval_dataloader = DataLoader(eval_dataset, batch_size=64, shuffle=False)\n",
    "test_dataloader = DataLoader(test_dataset, batch_size=64, shuffle=False)"
   ]
  },
  {
   "cell_type": "markdown",
   "id": "8e38af6b",
   "metadata": {
    "papermill": {
     "duration": 0.02038,
     "end_time": "2024-05-24T11:25:43.723264",
     "exception": false,
     "start_time": "2024-05-24T11:25:43.702884",
     "status": "completed"
    },
    "tags": []
   },
   "source": [
    "# Model"
   ]
  },
  {
   "cell_type": "code",
   "execution_count": 35,
   "id": "ba9f647e",
   "metadata": {
    "execution": {
     "iopub.execute_input": "2024-05-24T11:25:43.766402Z",
     "iopub.status.busy": "2024-05-24T11:25:43.765976Z",
     "iopub.status.idle": "2024-05-24T11:25:43.775479Z",
     "shell.execute_reply": "2024-05-24T11:25:43.774306Z"
    },
    "papermill": {
     "duration": 0.034128,
     "end_time": "2024-05-24T11:25:43.778019",
     "exception": false,
     "start_time": "2024-05-24T11:25:43.743891",
     "status": "completed"
    },
    "tags": []
   },
   "outputs": [],
   "source": [
    "class TextClassificationModel(nn.Module):\n",
    "    def __init__(self, vocab_size, embedding_dim, hidden_dim, output_dim, pad_idx, num_layers):\n",
    "        super(TextClassificationModel, self).__init__()\n",
    "        self.embedding = nn.Embedding(vocab_size, embedding_dim, padding_idx=pad_idx)\n",
    "        self.lstm = nn.LSTM(embedding_dim, hidden_dim, num_layers=num_layers, \n",
    "                            bidirectional=True, batch_first=True)\n",
    "        self.fc1 = nn.Linear(hidden_dim * 2, hidden_dim // 2)\n",
    "        self.fc2 = nn.Linear(hidden_dim // 2, output_dim)\n",
    "        self.relu = nn.ReLU()\n",
    "\n",
    "    def forward(self, text):\n",
    "        embedded = self.embedding(text)\n",
    "        _, (hidden, _) = self.lstm(embedded)\n",
    "        hidden = torch.cat((hidden[-2, :, :], hidden[-1, :, :]), dim=1)\n",
    "        out = self.fc1(hidden)\n",
    "        out = self.relu(out)\n",
    "        out = self.fc2(out)\n",
    "        return out"
   ]
  },
  {
   "cell_type": "code",
   "execution_count": 36,
   "id": "0105448e",
   "metadata": {
    "execution": {
     "iopub.execute_input": "2024-05-24T11:25:43.820836Z",
     "iopub.status.busy": "2024-05-24T11:25:43.820410Z",
     "iopub.status.idle": "2024-05-24T11:25:43.827794Z",
     "shell.execute_reply": "2024-05-24T11:25:43.826603Z"
    },
    "papermill": {
     "duration": 0.031692,
     "end_time": "2024-05-24T11:25:43.830400",
     "exception": false,
     "start_time": "2024-05-24T11:25:43.798708",
     "status": "completed"
    },
    "tags": []
   },
   "outputs": [],
   "source": [
    "def train(model, criterion, optmizer, dataloader):\n",
    "    cost = 0\n",
    "    model.train()\n",
    "    \n",
    "    for X, y in dataloader:\n",
    "        X, y = X.to(DEVICE), y.to(DEVICE)\n",
    "        pred = model(X).squeeze(1)\n",
    "        loss = criterion(pred, y)\n",
    "        cost += loss.item()\n",
    "        optimizer.zero_grad()\n",
    "        loss.backward()\n",
    "        optimizer.step()\n",
    "    return cost/len(dataloader)"
   ]
  },
  {
   "cell_type": "code",
   "execution_count": 37,
   "id": "060d21bb",
   "metadata": {
    "execution": {
     "iopub.execute_input": "2024-05-24T11:25:43.872939Z",
     "iopub.status.busy": "2024-05-24T11:25:43.872495Z",
     "iopub.status.idle": "2024-05-24T11:25:43.880870Z",
     "shell.execute_reply": "2024-05-24T11:25:43.879686Z"
    },
    "papermill": {
     "duration": 0.032565,
     "end_time": "2024-05-24T11:25:43.883342",
     "exception": false,
     "start_time": "2024-05-24T11:25:43.850777",
     "status": "completed"
    },
    "tags": []
   },
   "outputs": [],
   "source": [
    "def evaluation(model, criterion, dataloader):\n",
    "    cost = 0\n",
    "    labels, pred_labels = [], []\n",
    "    model.eval()\n",
    "    \n",
    "    for X, y in dataloader:\n",
    "        X, y = X.to(DEVICE), y.to(DEVICE)\n",
    "        with torch.no_grad():\n",
    "            pred = model(X)\n",
    "            loss = criterion(pred, y)\n",
    "            cost += loss.item()\n",
    "            _, predicted = torch.max(pred, 1)\n",
    "            labels.extend(y.cpu().numpy())\n",
    "            pred_labels.extend(predicted.cpu().numpy())\n",
    "                \n",
    "    return cost / len(dataloader), accuracy_score(labels, pred_labels), classification_report(labels, pred_labels)"
   ]
  },
  {
   "cell_type": "code",
   "execution_count": 38,
   "id": "1e407936",
   "metadata": {
    "execution": {
     "iopub.execute_input": "2024-05-24T11:25:43.925934Z",
     "iopub.status.busy": "2024-05-24T11:25:43.925512Z",
     "iopub.status.idle": "2024-05-24T11:25:43.933265Z",
     "shell.execute_reply": "2024-05-24T11:25:43.931986Z"
    },
    "papermill": {
     "duration": 0.032027,
     "end_time": "2024-05-24T11:25:43.935849",
     "exception": false,
     "start_time": "2024-05-24T11:25:43.903822",
     "status": "completed"
    },
    "tags": []
   },
   "outputs": [],
   "source": [
    "def run(model, criterion, optimizer, train_dataloader, eval_dataloader):\n",
    "    history = {\n",
    "        \"train_loss\":[],\n",
    "        \"eval_loss\":[],\n",
    "        \"accuracy\":[]\n",
    "    }\n",
    "    for _ in tqdm(range(EPOCHS)):\n",
    "        train_loss = train(model, criterion, optimizer, train_dataloader)\n",
    "        eval_loss, accuracy, _ = evaluation(model, criterion, eval_dataloader)\n",
    "        history[\"train_loss\"].append(train_loss)\n",
    "        history[\"eval_loss\"].append(eval_loss)\n",
    "        history[\"accuracy\"].append(accuracy)\n",
    "    return history"
   ]
  },
  {
   "cell_type": "code",
   "execution_count": 39,
   "id": "806bc538",
   "metadata": {
    "execution": {
     "iopub.execute_input": "2024-05-24T11:25:43.978735Z",
     "iopub.status.busy": "2024-05-24T11:25:43.978310Z",
     "iopub.status.idle": "2024-05-24T11:25:43.985431Z",
     "shell.execute_reply": "2024-05-24T11:25:43.984206Z"
    },
    "papermill": {
     "duration": 0.031713,
     "end_time": "2024-05-24T11:25:43.988105",
     "exception": false,
     "start_time": "2024-05-24T11:25:43.956392",
     "status": "completed"
    },
    "tags": []
   },
   "outputs": [],
   "source": [
    "def plot_history(history):\n",
    "    fig, (ax1, ax2) = plt.subplots(2, 1, sharex=True)\n",
    "    x_axis = range(1, EPOCHS+1)\n",
    "    ax1.plot(x_axis, history[\"train_loss\"], label=\"Train Loss\")\n",
    "    ax1.plot(x_axis, history[\"eval_loss\"], label=\"Eval Loss\")\n",
    "    ax2.plot(x_axis, history[\"accuracy\"], label=\"Accuracy\")\n",
    "    plt.legend()\n",
    "    plt.tight_layout()\n",
    "    plt.show();"
   ]
  },
  {
   "cell_type": "code",
   "execution_count": 40,
   "id": "189648c8",
   "metadata": {
    "execution": {
     "iopub.execute_input": "2024-05-24T11:25:44.033078Z",
     "iopub.status.busy": "2024-05-24T11:25:44.032662Z",
     "iopub.status.idle": "2024-05-24T11:31:46.402982Z",
     "shell.execute_reply": "2024-05-24T11:31:46.401703Z"
    },
    "papermill": {
     "duration": 362.39708,
     "end_time": "2024-05-24T11:31:46.405803",
     "exception": false,
     "start_time": "2024-05-24T11:25:44.008723",
     "status": "completed"
    },
    "tags": []
   },
   "outputs": [
    {
     "name": "stderr",
     "output_type": "stream",
     "text": [
      "100%|██████████| 15/15 [05:59<00:00, 23.96s/it]\n"
     ]
    }
   ],
   "source": [
    "DEVICE = \"cuda\" if torch.cuda.is_available() else \"cpu\"\n",
    "EPOCHS = 15\n",
    "\n",
    "vocab_size = len(vocab)\n",
    "embedding_dim = 8\n",
    "hidden_dim = 16\n",
    "output_dim = 3\n",
    "pad_idx = vocab.stoi['<PAD>']\n",
    "num_layers = 2\n",
    "\n",
    "model = TextClassificationModel(vocab_size, embedding_dim, hidden_dim, output_dim, pad_idx, num_layers).to(DEVICE)\n",
    "optimizer = torch.optim.Adam(model.parameters(), lr=0.001)\n",
    "criterion = nn.CrossEntropyLoss()\n",
    "\n",
    "history = run(model, criterion, optimizer, train_dataloader, eval_dataloader)"
   ]
  },
  {
   "cell_type": "code",
   "execution_count": 41,
   "id": "594df4bc",
   "metadata": {
    "execution": {
     "iopub.execute_input": "2024-05-24T11:31:46.451460Z",
     "iopub.status.busy": "2024-05-24T11:31:46.450898Z",
     "iopub.status.idle": "2024-05-24T11:31:47.098950Z",
     "shell.execute_reply": "2024-05-24T11:31:47.097786Z"
    },
    "papermill": {
     "duration": 0.674022,
     "end_time": "2024-05-24T11:31:47.101742",
     "exception": false,
     "start_time": "2024-05-24T11:31:46.427720",
     "status": "completed"
    },
    "tags": []
   },
   "outputs": [
    {
     "data": {
      "image/png": "[encoded data removed]",
      "text/plain": [
       "<Figure size 640x480 with 2 Axes>"
      ]
     },
     "metadata": {},
     "output_type": "display_data"
    }
   ],
   "source": [
    "plot_history(history)"
   ]
  },
  {
   "cell_type": "code",
   "execution_count": 42,
   "id": "bb5c2ab8",
   "metadata": {
    "execution": {
     "iopub.execute_input": "2024-05-24T11:31:47.148355Z",
     "iopub.status.busy": "2024-05-24T11:31:47.147977Z",
     "iopub.status.idle": "2024-05-24T11:31:47.156736Z",
     "shell.execute_reply": "2024-05-24T11:31:47.155498Z"
    },
    "papermill": {
     "duration": 0.034823,
     "end_time": "2024-05-24T11:31:47.159058",
     "exception": false,
     "start_time": "2024-05-24T11:31:47.124235",
     "status": "completed"
    },
    "tags": []
   },
   "outputs": [],
   "source": [
    "torch.save(model, \"model.pth\")"
   ]
  },
  {
   "cell_type": "code",
   "execution_count": null,
   "id": "2628aa63",
   "metadata": {
    "papermill": {
     "duration": 0.022165,
     "end_time": "2024-05-24T11:31:47.203670",
     "exception": false,
     "start_time": "2024-05-24T11:31:47.181505",
     "status": "completed"
    },
    "tags": []
   },
   "outputs": [],
   "source": []
  },
  {
   "cell_type": "code",
   "execution_count": null,
   "id": "405dcd95",
   "metadata": {
    "papermill": {
     "duration": 0.02242,
     "end_time": "2024-05-24T11:31:47.249454",
     "exception": false,
     "start_time": "2024-05-24T11:31:47.227034",
     "status": "completed"
    },
    "tags": []
   },
   "outputs": [],
   "source": []
  },
  {
   "cell_type": "markdown",
   "id": "ef757827",
   "metadata": {
    "papermill": {
     "duration": 0.022235,
     "end_time": "2024-05-24T11:31:47.294191",
     "exception": false,
     "start_time": "2024-05-24T11:31:47.271956",
     "status": "completed"
    },
    "tags": []
   },
   "source": [
    "# final result (on totally unseen data)"
   ]
  },
  {
   "cell_type": "code",
   "execution_count": 43,
   "id": "f18b68a4",
   "metadata": {
    "execution": {
     "iopub.execute_input": "2024-05-24T11:31:47.341065Z",
     "iopub.status.busy": "2024-05-24T11:31:47.340670Z",
     "iopub.status.idle": "2024-05-24T11:31:48.204067Z",
     "shell.execute_reply": "2024-05-24T11:31:48.202874Z"
    },
    "papermill": {
     "duration": 0.890213,
     "end_time": "2024-05-24T11:31:48.206864",
     "exception": false,
     "start_time": "2024-05-24T11:31:47.316651",
     "status": "completed"
    },
    "tags": []
   },
   "outputs": [
    {
     "name": "stdout",
     "output_type": "stream",
     "text": [
      "              precision    recall  f1-score   support\n",
      "\n",
      "           0       0.97      0.99      0.98      1000\n",
      "           1       0.98      0.94      0.96       573\n",
      "           2       0.98      0.99      0.98       336\n",
      "\n",
      "    accuracy                           0.98      1909\n",
      "   macro avg       0.98      0.97      0.98      1909\n",
      "weighted avg       0.98      0.98      0.98      1909\n",
      "\n"
     ]
    }
   ],
   "source": [
    "_, _, report = evaluation(model, criterion, test_dataloader)\n",
    "print(report)"
   ]
  },
  {
   "cell_type": "code",
   "execution_count": null,
   "id": "b1971efc",
   "metadata": {
    "papermill": {
     "duration": 0.021787,
     "end_time": "2024-05-24T11:31:48.251177",
     "exception": false,
     "start_time": "2024-05-24T11:31:48.229390",
     "status": "completed"
    },
    "tags": []
   },
   "outputs": [],
   "source": []
  }
 ],
 "metadata": {
  "kaggle": {
   "accelerator": "none",
   "dataSources": [
    {
     "datasetId": 4205998,
     "sourceId": 7257995,
     "sourceType": "datasetVersion"
    },
    {
     "datasetId": 5047453,
     "sourceId": 8466134,
     "sourceType": "datasetVersion"
    }
   ],
   "dockerImageVersionId": 30698,
   "isGpuEnabled": false,
   "isInternetEnabled": true,
   "language": "python",
   "sourceType": "notebook"
  },
  "kernelspec": {
   "display_name": "Python 3",
   "language": "python",
   "name": "python3"
  },
  "language_info": {
   "codemirror_mode": {
    "name": "ipython",
    "version": 3
   },
   "file_extension": ".py",
   "mimetype": "text/x-python",
   "name": "python",
   "nbconvert_exporter": "python",
   "pygments_lexer": "ipython3",
   "version": "3.10.13"
  },
  "papermill": {
   "default_parameters": {},
   "duration": 389.308361,
   "end_time": "2024-05-24T11:31:49.799612",
   "environment_variables": {},
   "exception": null,
   "input_path": "__notebook__.ipynb",
   "output_path": "__notebook__.ipynb",
   "parameters": {},
   "start_time": "2024-05-24T11:25:20.491251",
   "version": "2.5.0"
  }
 },
 "nbformat": 4,
 "nbformat_minor": 5
}
